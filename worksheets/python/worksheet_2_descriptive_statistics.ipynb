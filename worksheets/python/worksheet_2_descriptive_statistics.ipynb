{
 "cells": [
  {
   "cell_type": "markdown",
   "id": "12be8989-7a06-498d-9822-36adaa9e7349",
   "metadata": {},
   "source": [
    "# Descriptive statistics and normality testing"
   ]
  },
  {
   "cell_type": "markdown",
   "id": "38b5fcce-6ed5-4230-9d23-81b6bc1832b4",
   "metadata": {},
   "source": [
    "## Imports"
   ]
  },
  {
   "cell_type": "code",
   "execution_count": null,
   "id": "970bfffc-2a56-4595-9c2d-50832e0fbb70",
   "metadata": {},
   "outputs": [],
   "source": [
    "import pandas as pd\n",
    "import scipy.stats as ss\n",
    "import seaborn as sb\n",
    "import statsmodels.api as sm"
   ]
  },
  {
   "cell_type": "markdown",
   "id": "8b34d0e8-763c-47b8-a28a-b90870280e68",
   "metadata": {},
   "source": [
    "## Data loading"
   ]
  },
  {
   "cell_type": "code",
   "execution_count": null,
   "id": "8a8f7ca6-9c9e-4c20-8b55-86858b1cf9b6",
   "metadata": {},
   "outputs": [],
   "source": [
    "file_name = \"../data/toy_descriptive_long.csv\"\n",
    "df = pd.read_csv(file_name)\n",
    "df.head()"
   ]
  },
  {
   "cell_type": "markdown",
   "id": "a6214f7b-2c74-4d6f-8415-997e2a75a891",
   "metadata": {},
   "source": [
    "## Tabular analysis"
   ]
  },
  {
   "cell_type": "markdown",
   "id": "ba4d1405-e982-412a-b44e-5c033d5bc942",
   "metadata": {},
   "source": [
    "- The `DataFrame` class from `pandas` provides the `describe` method for computing basic descriptive statistics.\n",
    "- `describe` will ignore non-numeric columns"
   ]
  },
  {
   "cell_type": "code",
   "execution_count": null,
   "id": "9a7811aa-9cf1-4b13-9848-1662e45f1961",
   "metadata": {},
   "outputs": [],
   "source": [
    "df.describe()"
   ]
  },
  {
   "cell_type": "markdown",
   "id": "09c1b47c-8d2e-4434-828a-8099a6399e49",
   "metadata": {},
   "source": [
    "The previous code has computed the statistics for the whole group. \n",
    "But we really want to break compute values by group.\n",
    "We can \"subset\" our data as follows."
   ]
  },
  {
   "cell_type": "code",
   "execution_count": null,
   "id": "c78d5d6a-7530-489c-aaf2-507d875136c0",
   "metadata": {},
   "outputs": [],
   "source": [
    "df[df[\"group\"] == \"S2\"]"
   ]
  },
  {
   "cell_type": "markdown",
   "id": "b495ecf8-0c3b-4041-b5c4-56251b54230c",
   "metadata": {},
   "source": [
    "The previous code gives us the subset of data from group S2.\n",
    "Now we can run `describe` on that data."
   ]
  },
  {
   "cell_type": "code",
   "execution_count": null,
   "id": "c8d3af19-5126-4f36-88ef-6061f2245d18",
   "metadata": {},
   "outputs": [],
   "source": [
    "df[df[\"group\"] == \"S2\"].describe()"
   ]
  },
  {
   "cell_type": "markdown",
   "id": "fa889c2d-f83d-4b3f-a6f8-f268cdad63ca",
   "metadata": {},
   "source": [
    "If we want to describe for all groups we can use the `groupby` method."
   ]
  },
  {
   "cell_type": "code",
   "execution_count": null,
   "id": "e19828ca-29d6-4aa8-aea0-d2d57fb37ce4",
   "metadata": {},
   "outputs": [],
   "source": [
    "df.groupby(by=\"group\").describe()"
   ]
  },
  {
   "cell_type": "markdown",
   "id": "d2e1a3c2-3172-4fac-9423-fb722ab451be",
   "metadata": {},
   "source": [
    "## Basic plots"
   ]
  },
  {
   "cell_type": "markdown",
   "id": "9d2ef5de-3e93-405a-be3e-0f4c78c2fa3f",
   "metadata": {},
   "source": [
    "### Plotting data points"
   ]
  },
  {
   "cell_type": "code",
   "execution_count": null,
   "id": "3badecf5-6494-41b0-8622-cbefba0826fb",
   "metadata": {},
   "outputs": [],
   "source": [
    "sb.swarmplot(df, x=\"group\", y=\"value\")"
   ]
  },
  {
   "cell_type": "markdown",
   "id": "d9e9b235-92f3-43c6-ac11-ce589098a3bd",
   "metadata": {},
   "source": [
    "### Boxplots of the data distribution"
   ]
  },
  {
   "cell_type": "code",
   "execution_count": null,
   "id": "df56122f-c376-43a9-b908-788bc4966eec",
   "metadata": {},
   "outputs": [],
   "source": [
    "sb.boxplot(\n",
    "    df,\n",
    "    x=\"group\",\n",
    "    y=\"value\",\n",
    ")"
   ]
  },
  {
   "cell_type": "markdown",
   "id": "0c2610ed-1b73-4832-a591-1778f2c0fb53",
   "metadata": {},
   "source": [
    "### Interval plots"
   ]
  },
  {
   "cell_type": "code",
   "execution_count": null,
   "id": "1e3eda5d-59b1-4bea-8eee-76f0fed63f5f",
   "metadata": {},
   "outputs": [],
   "source": [
    "ax = sb.pointplot(\n",
    "    df,\n",
    "    x=\"group\",\n",
    "    y=\"value\",\n",
    ")"
   ]
  },
  {
   "cell_type": "markdown",
   "id": "6bb14352-228c-48b3-914b-48744041c06c",
   "metadata": {},
   "source": [
    "We need to get rid of the line connecting the groups."
   ]
  },
  {
   "cell_type": "code",
   "execution_count": null,
   "id": "dd8c2489-1ff3-44b8-a01d-3c29b2a8462f",
   "metadata": {},
   "outputs": [],
   "source": [
    "ax = sb.pointplot(\n",
    "    df,\n",
    "    x=\"group\",\n",
    "    y=\"value\",\n",
    "    linestyles=\"none\",\n",
    ")"
   ]
  },
  {
   "cell_type": "markdown",
   "id": "638304b2-7040-4f52-a8ba-a2dcba7ef9b1",
   "metadata": {},
   "source": [
    "By default we are getting the mean and standard devation.\n",
    "Let's change to the median and IQR.\n",
    "We will also add some horizontal bars to the ends of the range."
   ]
  },
  {
   "cell_type": "code",
   "execution_count": null,
   "id": "a081c95f-6e95-412e-b1de-3029e3372b55",
   "metadata": {},
   "outputs": [],
   "source": [
    "ax = sb.pointplot(\n",
    "    df,\n",
    "    x=\"group\",\n",
    "    y=\"value\",\n",
    "    capsize=0.4,\n",
    "    estimator=\"median\",\n",
    "    errorbar=(\"pi\", 50),\n",
    "    linestyles=\"none\",\n",
    ")"
   ]
  },
  {
   "cell_type": "markdown",
   "id": "4c272254-a831-42bd-b8ae-edb62af660f0",
   "metadata": {},
   "source": [
    "## Combining plots"
   ]
  },
  {
   "cell_type": "markdown",
   "id": "a520a80a-b4e1-41ff-8317-5a20c9dc1f9d",
   "metadata": {},
   "source": [
    "We can combine different types of plots.\n",
    "Let's start by adding the data points to our boxplot."
   ]
  },
  {
   "cell_type": "code",
   "execution_count": null,
   "id": "fdefa41b-64bd-4896-83c6-82cb74dd10c2",
   "metadata": {},
   "outputs": [],
   "source": [
    "ax = sb.swarmplot(\n",
    "    df,\n",
    "    x=\"group\",\n",
    "    y=\"value\",\n",
    "    color=\"k\",\n",
    ")\n",
    "ax = sb.boxplot(\n",
    "    df,\n",
    "    ax=ax,\n",
    "    x=\"group\",\n",
    "    y=\"value\",\n",
    "    fill=False,\n",
    "    color=\"k\",\n",
    ")\n",
    "ax.set_xlabel(\"Study group\")\n",
    "ax.set_ylabel(\"Weight (g)\")"
   ]
  },
  {
   "cell_type": "markdown",
   "id": "27c7538e-7986-4364-a39e-e6709eb68f18",
   "metadata": {},
   "source": [
    "We can do the same thing with our interval plots."
   ]
  },
  {
   "cell_type": "code",
   "execution_count": null,
   "id": "2c8d8c0e-5e5d-41ad-bb25-2067e6454d5f",
   "metadata": {},
   "outputs": [],
   "source": [
    "ax = sb.swarmplot(df, x=\"group\", y=\"value\", color=\"k\")\n",
    "ax = sb.pointplot(\n",
    "    df,\n",
    "    ax=ax,\n",
    "    x=\"group\",\n",
    "    y=\"value\",\n",
    "    capsize=0.4,\n",
    "    color=\"k\",\n",
    "    estimator=\"median\",\n",
    "    errorbar=(\"pi\", 50),\n",
    "    linestyle=\"none\",\n",
    ")"
   ]
  },
  {
   "cell_type": "markdown",
   "id": "9f83452b-a727-42d5-812f-a3a1059fbdb2",
   "metadata": {},
   "source": [
    "### Histograms"
   ]
  },
  {
   "cell_type": "markdown",
   "id": "889edbae-ddd4-46b9-91e9-d26673cb4313",
   "metadata": {},
   "source": [
    "Pandas DataFrames can plot histograms with the built in `hist` method."
   ]
  },
  {
   "cell_type": "code",
   "execution_count": null,
   "id": "945b7b86-c81f-493b-89f5-c930d8620818",
   "metadata": {},
   "outputs": [],
   "source": [
    "df.hist(by=\"group\")"
   ]
  },
  {
   "cell_type": "markdown",
   "id": "75f16e02-7572-4ff0-b20e-076639a366ff",
   "metadata": {},
   "source": [
    "The default is pretty ugly.\n",
    "We can lay things out one row and fix the figure size."
   ]
  },
  {
   "cell_type": "code",
   "execution_count": null,
   "id": "971abd5b-7b69-485e-aad6-27a7a52ce994",
   "metadata": {},
   "outputs": [],
   "source": [
    "df.hist(by=\"group\", figsize=(12, 4), layout=(1, 3))"
   ]
  },
  {
   "cell_type": "markdown",
   "id": "f36a28e8-b930-4d00-a2e7-fd3e964622b4",
   "metadata": {},
   "source": [
    "While `pandas` has basic plotting support, `seaborn` is a lot more powerful.\n",
    "Let's do the same thing in `seaborn`."
   ]
  },
  {
   "cell_type": "code",
   "execution_count": null,
   "id": "dc0c3edc-9d0f-43b6-b278-95493676d356",
   "metadata": {},
   "outputs": [],
   "source": [
    "sb.displot(df, x=\"value\", col=\"group\")"
   ]
  },
  {
   "cell_type": "markdown",
   "id": "4f07ac56-7865-440f-94f8-c5e67b67a251",
   "metadata": {},
   "source": [
    "The `distplot` function is a bit different than what we saw earlier, in that it produces multiple plots.\n",
    "Instead of producing a single `Axes` object it produces a collection of `Axes` stored in a new object called a `FacetGrid`.\n",
    "Let's clean up this plot."
   ]
  },
  {
   "cell_type": "code",
   "execution_count": null,
   "id": "7ca668e7-0522-42bc-824f-d7865a62d679",
   "metadata": {},
   "outputs": [],
   "source": [
    "fg = sb.displot(df, x=\"value\", col=\"group\", bins=10, color=\"k\", fill=False)\n",
    "fg.set_xlabels(\"Weight (g)\")"
   ]
  },
  {
   "cell_type": "markdown",
   "id": "c3e3fc71-3e57-4fea-bd37-cbf2df9cb820",
   "metadata": {},
   "source": [
    "## Normality testing"
   ]
  },
  {
   "cell_type": "markdown",
   "id": "12c7bceb-90b8-487a-8236-9f7f2b0adc2f",
   "metadata": {},
   "source": [
    "We will use the `scipy.stats` module which provides a large collection of statistical functions.\n",
    "To compute the Shapiro-Wilks statistics we will use the `shapiro` function.\n",
    "This functions takes in a sequence of numbers."
   ]
  },
  {
   "cell_type": "code",
   "execution_count": null,
   "id": "0b5df467-6458-44e1-8b93-5883f2ca18eb",
   "metadata": {},
   "outputs": [],
   "source": [
    "ss.shapiro(df[\"value\"])"
   ]
  },
  {
   "cell_type": "markdown",
   "id": "bf6394dd-6b88-4f7b-81b2-65c239bb628a",
   "metadata": {},
   "source": [
    "Again this is computing for the whole dataset.\n",
    "We would rather do it by group.\n",
    "So let's use the `groupby` method."
   ]
  },
  {
   "cell_type": "code",
   "execution_count": null,
   "id": "8e737647-edd2-41d2-a33d-23a8109fa81f",
   "metadata": {},
   "outputs": [],
   "source": [
    "df.groupby(by=\"group\")[\"value\"].apply(ss.shapiro)"
   ]
  },
  {
   "cell_type": "markdown",
   "id": "aba4eeaa-7933-42ee-b108-824b5a79b06f",
   "metadata": {},
   "source": [
    "We don't need the test statistics.\n",
    "Also let's round to 3 decimals."
   ]
  },
  {
   "cell_type": "code",
   "execution_count": null,
   "id": "e486f6dc-3621-4599-aad2-3fcd38208f81",
   "metadata": {},
   "outputs": [],
   "source": [
    "df.groupby(by=\"group\")[\"value\"].apply(lambda x: round(ss.shapiro(x)[1], 3))"
   ]
  },
  {
   "cell_type": "markdown",
   "id": "aba46f31-4b87-48f3-a119-82c667f91926",
   "metadata": {},
   "source": [
    "If we want to do QQ plots we will use `statsmodels`.\n",
    "There is not a really nice way to do it by group, so we will manually subset."
   ]
  },
  {
   "cell_type": "code",
   "execution_count": null,
   "id": "bfcf7331-7931-4d31-b23f-d77848843e36",
   "metadata": {},
   "outputs": [],
   "source": [
    "sm.qqplot(df.loc[df[\"group\"] == \"S2\", \"value\"]);"
   ]
  },
  {
   "cell_type": "markdown",
   "id": "cde38c23-0e9f-4e12-99b2-8bee08c2b41e",
   "metadata": {},
   "source": [
    "By default `qqplot` does not show any line.\n",
    "We will add the one fit to the quantiles."
   ]
  },
  {
   "cell_type": "code",
   "execution_count": null,
   "id": "3170cd71-e722-400e-880f-5cb0d3577190",
   "metadata": {},
   "outputs": [],
   "source": [
    "sm.qqplot(df.loc[df[\"group\"] == \"S2\", \"value\"], line=\"q\");"
   ]
  }
 ],
 "metadata": {
  "kernelspec": {
   "display_name": "Python [conda env:path]",
   "language": "python",
   "name": "conda-env-path-py"
  },
  "language_info": {
   "codemirror_mode": {
    "name": "ipython",
    "version": 3
   },
   "file_extension": ".py",
   "mimetype": "text/x-python",
   "name": "python",
   "nbconvert_exporter": "python",
   "pygments_lexer": "ipython3",
   "version": "3.13.3"
  }
 },
 "nbformat": 4,
 "nbformat_minor": 5
}
