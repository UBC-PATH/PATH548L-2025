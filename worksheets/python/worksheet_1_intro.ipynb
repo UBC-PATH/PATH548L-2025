{
 "cells": [
  {
   "cell_type": "code",
   "execution_count": null,
   "id": "ce6d0ec1-9467-43d1-b16a-14fe9aaa4538",
   "metadata": {},
   "outputs": [],
   "source": [
    "import numpy as np\n",
    "import pandas as pd"
   ]
  },
  {
   "cell_type": "code",
   "execution_count": null,
   "id": "aaf45757-9428-4736-8fea-b5e79d7dbc72",
   "metadata": {},
   "outputs": [],
   "source": [
    "file_name = \"../data/cytometry_toy.csv\"\n",
    "df = pd.read_csv(file_name)\n",
    "df.head()"
   ]
  },
  {
   "cell_type": "code",
   "execution_count": null,
   "id": "e3e06104-8cf4-4c0b-9902-69191a51ad4c",
   "metadata": {},
   "outputs": [],
   "source": [
    "df[\"CD4\"].mean()"
   ]
  },
  {
   "cell_type": "code",
   "execution_count": null,
   "id": "8d507335-5057-4d83-b640-457aeea53a3c",
   "metadata": {},
   "outputs": [],
   "source": [
    "# df.mean()"
   ]
  },
  {
   "cell_type": "code",
   "execution_count": null,
   "id": "bd94d058-b95e-491c-87f1-7d4f04e2b151",
   "metadata": {},
   "outputs": [],
   "source": [
    "df.drop(columns=\"treatment\").mean()"
   ]
  },
  {
   "cell_type": "code",
   "execution_count": null,
   "id": "c3fe7464-216f-4cfc-9954-31c52090b7dd",
   "metadata": {},
   "outputs": [],
   "source": [
    "df[\"CD8\"].std()"
   ]
  },
  {
   "cell_type": "code",
   "execution_count": null,
   "id": "88730f5e-2ba8-4adb-8971-214655d228c9",
   "metadata": {},
   "outputs": [],
   "source": [
    "df.describe()"
   ]
  },
  {
   "cell_type": "code",
   "execution_count": null,
   "id": "42402a3d-2809-4ef0-89e2-108d7b0223a4",
   "metadata": {},
   "outputs": [],
   "source": [
    "df[\"CD8\"].hist()"
   ]
  },
  {
   "cell_type": "code",
   "execution_count": null,
   "id": "77db9db4-52f8-4636-b930-132712c73762",
   "metadata": {},
   "outputs": [],
   "source": [
    "df[\"CD8\"].plot(kind=\"box\")"
   ]
  },
  {
   "cell_type": "code",
   "execution_count": null,
   "id": "1d160a89-84dd-4073-b76c-1706de1bd62e",
   "metadata": {},
   "outputs": [],
   "source": [
    "df.boxplot(column=\"CD8\", by=\"treatment\")"
   ]
  },
  {
   "cell_type": "code",
   "execution_count": null,
   "id": "4a4965eb-2c94-4a72-8abf-83b5e056c413",
   "metadata": {},
   "outputs": [],
   "source": [
    "df[\"CD8_log\"] = np.log(df[\"CD8\"])\n",
    "df.boxplot(column=\"CD8_log\", by=\"treatment\")"
   ]
  },
  {
   "cell_type": "code",
   "execution_count": null,
   "id": "fc87398f-51d6-415e-99f6-a4e07830fa39",
   "metadata": {},
   "outputs": [],
   "source": [
    "df[\"CD8_log\"] = np.log(df[\"CD8\"])\n",
    "ax = df.boxplot(column=\"CD8_log\", by=\"treatment\")\n",
    "ax.set_xlabel(\"Treament\")\n",
    "ax.set_ylabel(\"CD8 Intensity (log)\")"
   ]
  },
  {
   "cell_type": "code",
   "execution_count": null,
   "id": "1806e2e5-a628-4e06-bbb7-ece8c840bf80",
   "metadata": {},
   "outputs": [],
   "source": [
    "df.boxplot(column=[\"CD4\", \"CD8\"], by=\"treatment\")"
   ]
  },
  {
   "cell_type": "code",
   "execution_count": null,
   "id": "d3f439c1-d8cc-4eb9-9836-38ef6284a85f",
   "metadata": {},
   "outputs": [],
   "source": [
    "import seaborn as sb"
   ]
  },
  {
   "cell_type": "code",
   "execution_count": null,
   "id": "0b478013-5c5a-4ba4-8586-c4cae16c5aa4",
   "metadata": {},
   "outputs": [],
   "source": [
    "sb.boxplot(data=df, x=\"treatment\", y=\"CD8\")"
   ]
  },
  {
   "cell_type": "code",
   "execution_count": null,
   "id": "8bf2bf24-0235-44d5-b2c5-48ba3eb24e2e",
   "metadata": {},
   "outputs": [],
   "source": [
    "sb.set_style(\"whitegrid\")\n",
    "sb.boxplot(data=df, x=\"treatment\", y=\"CD8\")"
   ]
  },
  {
   "cell_type": "code",
   "execution_count": null,
   "id": "073cfde0-203b-4f5e-a980-4c12f97feb5b",
   "metadata": {},
   "outputs": [],
   "source": [
    "sb.scatterplot(data=df, x=\"CD8\", y=\"CD4\")"
   ]
  },
  {
   "cell_type": "code",
   "execution_count": null,
   "id": "7bad520e-e33a-4c68-88f6-c3207a4706a7",
   "metadata": {},
   "outputs": [],
   "source": [
    "sb.scatterplot(data=df, x=\"CD8\", y=\"CD4\", hue=\"treatment\")"
   ]
  },
  {
   "cell_type": "code",
   "execution_count": null,
   "id": "f6a82398-f53b-4fee-b4f8-a9f3a5de2138",
   "metadata": {},
   "outputs": [],
   "source": [
    "import scipy.stats as ss"
   ]
  },
  {
   "cell_type": "code",
   "execution_count": null,
   "id": "b48d56d8-c114-4fe4-93dc-f63fd046df65",
   "metadata": {},
   "outputs": [],
   "source": [
    "x = df.loc[df[\"treatment\"] == \"control\", \"CD8\"]\n",
    "y = df.loc[df[\"treatment\"] == \"drug\", \"CD8\"]\n",
    "ss.ttest_ind(x, y)"
   ]
  }
 ],
 "metadata": {
  "kernelspec": {
   "display_name": "Python [conda env:cpsc330]",
   "language": "python",
   "name": "conda-env-cpsc330-py"
  },
  "language_info": {
   "codemirror_mode": {
    "name": "ipython",
    "version": 3
   },
   "file_extension": ".py",
   "mimetype": "text/x-python",
   "name": "python",
   "nbconvert_exporter": "python",
   "pygments_lexer": "ipython3",
   "version": "3.12.0"
  }
 },
 "nbformat": 4,
 "nbformat_minor": 5
}
