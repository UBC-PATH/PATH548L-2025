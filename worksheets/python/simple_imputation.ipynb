{
 "cells": [
  {
   "cell_type": "code",
   "execution_count": null,
   "id": "84bacd85-c1f6-488e-94df-a72185de153a",
   "metadata": {},
   "outputs": [],
   "source": [
    "from sklearn.impute import SimpleImputer\n",
    "\n",
    "import matplotlib.pyplot as pp\n",
    "import pandas as pd\n",
    "import statsmodels.api as sm\n",
    "import seaborn as sb"
   ]
  },
  {
   "cell_type": "markdown",
   "id": "12fec8ac-83e2-4d7a-9848-2c6b405d749e",
   "metadata": {},
   "source": [
    "## Data loading"
   ]
  },
  {
   "cell_type": "markdown",
   "id": "773bbc31-c859-442d-a005-d7b41f26cf01",
   "metadata": {},
   "source": [
    "Let's load our dataset.\n",
    "This is the same diabetes data we have worked with before, but I have added some missing values."
   ]
  },
  {
   "cell_type": "code",
   "execution_count": null,
   "id": "4971906d-d8ee-48e5-8393-466f91b0ff10",
   "metadata": {},
   "outputs": [],
   "source": [
    "file_name = \"../data/diabetes_missing.csv\"\n",
    "df = pd.read_csv(file_name)\n",
    "df.head()"
   ]
  },
  {
   "cell_type": "markdown",
   "id": "543305e6-d2ee-485b-8bd2-62a4450355c2",
   "metadata": {},
   "source": [
    "Let's take a quick look at the size of the dataset with `shape`."
   ]
  },
  {
   "cell_type": "code",
   "execution_count": null,
   "id": "9ac89393-d011-4f57-b7a9-ae39b45db76f",
   "metadata": {},
   "outputs": [],
   "source": [
    "df.shape"
   ]
  },
  {
   "cell_type": "markdown",
   "id": "8a26ffca-c13e-4270-b91e-40c1cdd4d9f8",
   "metadata": {},
   "source": [
    "## Exploratory data analysis"
   ]
  },
  {
   "cell_type": "markdown",
   "id": "2596d5e9-1bc7-4665-ade1-e84d45112733",
   "metadata": {},
   "source": [
    "We have 442 observations (rows) and 13 variables (columns).\n",
    "A first way to see if you have missing values is to use the describe function."
   ]
  },
  {
   "cell_type": "code",
   "execution_count": null,
   "id": "1012a343-be42-43cf-9651-a280ce74b7f6",
   "metadata": {},
   "outputs": [],
   "source": [
    "df.describe()"
   ]
  },
  {
   "cell_type": "markdown",
   "id": "bb4be05b-d9d7-494a-92af-ee486c6dde5e",
   "metadata": {},
   "source": [
    "We can see from the count row that \"BMI\" and \"Fasting Glucose\" have fewer entries than the other variables and less than 442 our number of observations.\n",
    "\n",
    "We can also directly compute the number of missing values with the `isna` method and the `sum` method.\n",
    "The `isna` method will return a matrix of True/False values indicating whether a value is missing (na).\n",
    "Calling `sum` on that matrix will add the entries for column together, treating False (not missing) as zero and True (missing) as one."
   ]
  },
  {
   "cell_type": "code",
   "execution_count": null,
   "id": "2c18c5ed-f44c-4751-a668-1fbf4d86d3ca",
   "metadata": {},
   "outputs": [],
   "source": [
    "df.isna().sum()"
   ]
  },
  {
   "cell_type": "markdown",
   "id": "7cce4dae-2e99-4920-b7b5-796974afa918",
   "metadata": {},
   "source": [
    "## Removing missing values"
   ]
  },
  {
   "cell_type": "markdown",
   "id": "7472b29e-326d-4cbe-b5c8-2c9152279bd1",
   "metadata": {},
   "source": [
    "The most conservative approach for dealing with missing values is to remove any row with a missing value.\n",
    "We can do this using the `dropna` method.\n",
    "Doing this means any row with a missing value anywhere will be removed."
   ]
  },
  {
   "cell_type": "code",
   "execution_count": null,
   "id": "038c8549-5509-4e15-9404-d0225cde3fbc",
   "metadata": {},
   "outputs": [],
   "source": [
    "df_remove = df.dropna(axis=0)\n",
    "df_remove.shape"
   ]
  },
  {
   "cell_type": "markdown",
   "id": "63ad6ab3-9c63-49a1-a02f-d59d578c303d",
   "metadata": {},
   "source": [
    "We can look at how much of the data remains by taking the ratio of rows in the new data frame to the original."
   ]
  },
  {
   "cell_type": "code",
   "execution_count": null,
   "id": "9555810c-ff78-48c4-8ecc-7d386acd9aab",
   "metadata": {},
   "outputs": [],
   "source": [
    "df_remove.shape[0] / df.shape[0]"
   ]
  },
  {
   "cell_type": "markdown",
   "id": "b21a7644-25b5-4f95-8c5a-39fcac618589",
   "metadata": {},
   "source": [
    "## Imputing with the mean"
   ]
  },
  {
   "cell_type": "markdown",
   "id": "185d644b-58ae-445d-9e0a-7aa049925c11",
   "metadata": {},
   "source": [
    "A less conservative approach is to replace missing values with the mean of the column.\n",
    "This approach by construction does not change the mean of the distribution for that column, but will alter the variance.\n",
    "We can do this using pandas indexing fairly easily.\n",
    "Below I am making a copy of the original data so we can compare the results."
   ]
  },
  {
   "cell_type": "markdown",
   "id": "ecf7e3f2-baa3-496a-ba07-9045a5f013ed",
   "metadata": {},
   "source": [
    "#### Manual filling"
   ]
  },
  {
   "cell_type": "code",
   "execution_count": null,
   "id": "81c57ef8-69d7-4bf1-9534-a71234d41b85",
   "metadata": {},
   "outputs": [],
   "source": [
    "df_mean = df.copy()\n",
    "df_mean.loc[df_mean[\"BMI\"].isnull(), \"BMI\"] = df_mean[\"BMI\"].mean()\n",
    "df_mean.loc[df_mean[\"Fasting Glucose\"].isnull(), \"Fasting Glucose\"] = df_mean[\"Fasting Glucose\"].mean()\n",
    "df_mean.describe()"
   ]
  },
  {
   "cell_type": "markdown",
   "id": "9f5343f8-8239-45f1-9ad1-6737a9652058",
   "metadata": {},
   "source": [
    "#### Using pandas\n",
    "\n",
    "The same result can also be achieved more compactly with the [fillna](https://pandas.pydata.org/pandas-docs/stable/reference/api/pandas.DataFrame.fillna.html) method."
   ]
  },
  {
   "cell_type": "code",
   "execution_count": null,
   "id": "1e3c6193-49bf-43c2-aea1-95ddc2b1eb11",
   "metadata": {},
   "outputs": [],
   "source": [
    "df_mean = df.copy()\n",
    "df_mean[\"BMI\"] = df[\"BMI\"].fillna(df[\"BMI\"].mean())\n",
    "df_mean[\"Fasting Glucose\"] = df[\"Fasting Glucose\"].fillna(df[\"Fasting Glucose\"].mean())\n",
    "df_mean.describe()"
   ]
  },
  {
   "cell_type": "markdown",
   "id": "61359da4-12f2-4a91-b5b3-99114450aafb",
   "metadata": {},
   "source": [
    "We can plot the results.\n",
    "Note that I have to create a figure and an axes which is shared between the two plots.\n",
    "I did this so we could see both results together.\n",
    "I also made some modifications to the colors and alpha scaling of the plots so we could see them despite the overlap."
   ]
  },
  {
   "cell_type": "code",
   "execution_count": null,
   "id": "886e86dd-39af-43b4-929e-55faa8b42db0",
   "metadata": {},
   "outputs": [],
   "source": [
    "fig = pp.figure()\n",
    "ax = fig.add_subplot(1, 1, 1)\n",
    "df[\"BMI\"].hist(ax=ax, bins=20, alpha=0.5, color=\"b\"), df_mean[\"BMI\"].hist(ax=ax, bins=20, alpha=0.5, color=\"r\")"
   ]
  },
  {
   "cell_type": "markdown",
   "id": "d429f59d-455a-467e-8567-869651ef05cd",
   "metadata": {},
   "source": [
    "Now lets compare the descriptive statistics."
   ]
  },
  {
   "cell_type": "code",
   "execution_count": null,
   "id": "3b94a76d-77fd-4935-9edc-9352007c3b5c",
   "metadata": {},
   "outputs": [],
   "source": [
    "df[\"BMI\"].describe(), df_mean[\"BMI\"].describe()"
   ]
  },
  {
   "cell_type": "markdown",
   "id": "30808daa-c5e4-402a-8a36-e960324f4c6c",
   "metadata": {},
   "source": [
    "#### Using scikit-learn"
   ]
  },
  {
   "cell_type": "markdown",
   "id": "de74d3b9-ff05-4a32-85e4-df621d040b9f",
   "metadata": {},
   "source": [
    "All this can further be simplified if we use the [`SimpleImputer`](https://scikit-learn.org/stable/modules/generated/sklearn.impute.SimpleImputer.html#sklearn.impute.SimpleImputer) class from the scikit-learn (`sklearn`).\n",
    "The `sklearn` package can do more sophisticated things if for example columns are categorical, but handling this is beyond the scope of the course.\n",
    "\n",
    "Note I am passing the `strategy` argument explicitly.\n",
    "By default it is mean, so this is unecessary, but it is helpful for code readability.\n",
    "Other strategies such as median exist for continuous values as well."
   ]
  },
  {
   "cell_type": "code",
   "execution_count": null,
   "id": "7ff1296c-f1f3-441a-9875-7ee657b7ff66",
   "metadata": {},
   "outputs": [],
   "source": [
    "df_mean[[\"BMI\", \"Fasting Glucose\"]] = SimpleImputer(strategy=\"mean\").fit_transform(df[[\"BMI\", \"Fasting Glucose\"]])\n",
    "df_mean[\"BMI\"].describe()"
   ]
  }
 ],
 "metadata": {
  "kernelspec": {
   "display_name": "Python [conda env:dev]",
   "language": "python",
   "name": "conda-env-dev-py"
  },
  "language_info": {
   "codemirror_mode": {
    "name": "ipython",
    "version": 3
   },
   "file_extension": ".py",
   "mimetype": "text/x-python",
   "name": "python",
   "nbconvert_exporter": "python",
   "pygments_lexer": "ipython3",
   "version": "3.11.8"
  }
 },
 "nbformat": 4,
 "nbformat_minor": 5
}
