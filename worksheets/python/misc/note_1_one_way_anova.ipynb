{
 "cells": [
  {
   "cell_type": "code",
   "execution_count": 29,
   "id": "1969a1a6-1ae6-43f0-8b6c-54c69e389fd7",
   "metadata": {},
   "outputs": [],
   "source": [
    "import pandas as pd\n",
    "import pingouin as pg\n",
    "import seaborn as sb\n",
    "import statsmodels.api as sm\n",
    "from statsmodels.formula.api import ols"
   ]
  },
  {
   "cell_type": "markdown",
   "id": "f2f7a9db-c91c-4c69-b6d5-927a634ea4f0",
   "metadata": {},
   "source": [
    "## Load data and EDA"
   ]
  },
  {
   "cell_type": "markdown",
   "id": "4017ecda-4a6f-447a-918c-cacee8e4a82b",
   "metadata": {},
   "source": [
    "For this example we will work with a toy mouse dataset.\n",
    "The dependent variable (`Weight`) is the weight of the mice taken at the end point of the experiment.\n",
    "The independent variable (`Treatment group`) is the treatment received.\n",
    "There are three treatments, placebo (`Control`), treatment one (`TX`) and treatment two (`TX2`)."
   ]
  },
  {
   "cell_type": "code",
   "execution_count": 2,
   "id": "ac8eefda-08c6-490e-8a30-e1209d5d7298",
   "metadata": {},
   "outputs": [
    {
     "data": {
      "text/html": [
       "<div>\n",
       "<style scoped>\n",
       "    .dataframe tbody tr th:only-of-type {\n",
       "        vertical-align: middle;\n",
       "    }\n",
       "\n",
       "    .dataframe tbody tr th {\n",
       "        vertical-align: top;\n",
       "    }\n",
       "\n",
       "    .dataframe thead th {\n",
       "        text-align: right;\n",
       "    }\n",
       "</style>\n",
       "<table border=\"1\" class=\"dataframe\">\n",
       "  <thead>\n",
       "    <tr style=\"text-align: right;\">\n",
       "      <th></th>\n",
       "      <th>Weight</th>\n",
       "      <th>Treatment group</th>\n",
       "    </tr>\n",
       "  </thead>\n",
       "  <tbody>\n",
       "    <tr>\n",
       "      <th>0</th>\n",
       "      <td>48.275517</td>\n",
       "      <td>Control</td>\n",
       "    </tr>\n",
       "    <tr>\n",
       "      <th>1</th>\n",
       "      <td>52.280366</td>\n",
       "      <td>Control</td>\n",
       "    </tr>\n",
       "    <tr>\n",
       "      <th>2</th>\n",
       "      <td>58.197076</td>\n",
       "      <td>Control</td>\n",
       "    </tr>\n",
       "    <tr>\n",
       "      <th>3</th>\n",
       "      <td>44.986134</td>\n",
       "      <td>Control</td>\n",
       "    </tr>\n",
       "    <tr>\n",
       "      <th>4</th>\n",
       "      <td>50.694798</td>\n",
       "      <td>Control</td>\n",
       "    </tr>\n",
       "  </tbody>\n",
       "</table>\n",
       "</div>"
      ],
      "text/plain": [
       "      Weight Treatment group\n",
       "0  48.275517         Control\n",
       "1  52.280366         Control\n",
       "2  58.197076         Control\n",
       "3  44.986134         Control\n",
       "4  50.694798         Control"
      ]
     },
     "execution_count": 2,
     "metadata": {},
     "output_type": "execute_result"
    }
   ],
   "source": [
    "file_name = \"../data/mouse_one_way_anova.csv\"\n",
    "df = pd.read_csv(file_name)\n",
    "df.head()"
   ]
  },
  {
   "cell_type": "markdown",
   "id": "ef1f81e0-55cd-46ed-97de-f037c0d142ac",
   "metadata": {},
   "source": [
    "First let's look at the sample size in each group."
   ]
  },
  {
   "cell_type": "code",
   "execution_count": 3,
   "id": "6ba0f004-0b53-4e0d-8ff6-320be2479163",
   "metadata": {},
   "outputs": [
    {
     "data": {
      "text/plain": [
       "Treatment group\n",
       "Control    5\n",
       "TX         5\n",
       "TX2        5\n",
       "Name: count, dtype: int64"
      ]
     },
     "execution_count": 3,
     "metadata": {},
     "output_type": "execute_result"
    }
   ],
   "source": [
    "df[\"Treatment group\"].value_counts()"
   ]
  },
  {
   "cell_type": "markdown",
   "id": "89d991cd-ae2d-406a-8fb5-569667cf2a49",
   "metadata": {},
   "source": [
    "Descriptive statistics of the entire dataset."
   ]
  },
  {
   "cell_type": "code",
   "execution_count": 4,
   "id": "4c4cbf34-f14f-4c8b-b03a-ca4b3ae506f6",
   "metadata": {},
   "outputs": [
    {
     "data": {
      "text/html": [
       "<div>\n",
       "<style scoped>\n",
       "    .dataframe tbody tr th:only-of-type {\n",
       "        vertical-align: middle;\n",
       "    }\n",
       "\n",
       "    .dataframe tbody tr th {\n",
       "        vertical-align: top;\n",
       "    }\n",
       "\n",
       "    .dataframe thead th {\n",
       "        text-align: right;\n",
       "    }\n",
       "</style>\n",
       "<table border=\"1\" class=\"dataframe\">\n",
       "  <thead>\n",
       "    <tr style=\"text-align: right;\">\n",
       "      <th></th>\n",
       "      <th>Weight</th>\n",
       "    </tr>\n",
       "  </thead>\n",
       "  <tbody>\n",
       "    <tr>\n",
       "      <th>count</th>\n",
       "      <td>15.000000</td>\n",
       "    </tr>\n",
       "    <tr>\n",
       "      <th>mean</th>\n",
       "      <td>64.399840</td>\n",
       "    </tr>\n",
       "    <tr>\n",
       "      <th>std</th>\n",
       "      <td>24.028966</td>\n",
       "    </tr>\n",
       "    <tr>\n",
       "      <th>min</th>\n",
       "      <td>39.506421</td>\n",
       "    </tr>\n",
       "    <tr>\n",
       "      <th>25%</th>\n",
       "      <td>45.202288</td>\n",
       "    </tr>\n",
       "    <tr>\n",
       "      <th>50%</th>\n",
       "      <td>52.280366</td>\n",
       "    </tr>\n",
       "    <tr>\n",
       "      <th>75%</th>\n",
       "      <td>89.303894</td>\n",
       "    </tr>\n",
       "    <tr>\n",
       "      <th>max</th>\n",
       "      <td>108.798292</td>\n",
       "    </tr>\n",
       "  </tbody>\n",
       "</table>\n",
       "</div>"
      ],
      "text/plain": [
       "           Weight\n",
       "count   15.000000\n",
       "mean    64.399840\n",
       "std     24.028966\n",
       "min     39.506421\n",
       "25%     45.202288\n",
       "50%     52.280366\n",
       "75%     89.303894\n",
       "max    108.798292"
      ]
     },
     "execution_count": 4,
     "metadata": {},
     "output_type": "execute_result"
    }
   ],
   "source": [
    "df.describe()"
   ]
  },
  {
   "cell_type": "markdown",
   "id": "8f5af54e-77a5-4ac2-9a3d-dcb20d12ca3a",
   "metadata": {},
   "source": [
    "Descriptive statistics by treatment."
   ]
  },
  {
   "cell_type": "code",
   "execution_count": 5,
   "id": "4a73de71-21b5-4b82-a94c-afe8d2a4650f",
   "metadata": {},
   "outputs": [
    {
     "data": {
      "text/html": [
       "<div>\n",
       "<style scoped>\n",
       "    .dataframe tbody tr th:only-of-type {\n",
       "        vertical-align: middle;\n",
       "    }\n",
       "\n",
       "    .dataframe tbody tr th {\n",
       "        vertical-align: top;\n",
       "    }\n",
       "\n",
       "    .dataframe thead tr th {\n",
       "        text-align: left;\n",
       "    }\n",
       "\n",
       "    .dataframe thead tr:last-of-type th {\n",
       "        text-align: right;\n",
       "    }\n",
       "</style>\n",
       "<table border=\"1\" class=\"dataframe\">\n",
       "  <thead>\n",
       "    <tr>\n",
       "      <th></th>\n",
       "      <th colspan=\"8\" halign=\"left\">Weight</th>\n",
       "    </tr>\n",
       "    <tr>\n",
       "      <th></th>\n",
       "      <th>count</th>\n",
       "      <th>mean</th>\n",
       "      <th>std</th>\n",
       "      <th>min</th>\n",
       "      <th>25%</th>\n",
       "      <th>50%</th>\n",
       "      <th>75%</th>\n",
       "      <th>max</th>\n",
       "    </tr>\n",
       "    <tr>\n",
       "      <th>Treatment group</th>\n",
       "      <th></th>\n",
       "      <th></th>\n",
       "      <th></th>\n",
       "      <th></th>\n",
       "      <th></th>\n",
       "      <th></th>\n",
       "      <th></th>\n",
       "      <th></th>\n",
       "    </tr>\n",
       "  </thead>\n",
       "  <tbody>\n",
       "    <tr>\n",
       "      <th>Control</th>\n",
       "      <td>5.0</td>\n",
       "      <td>50.886778</td>\n",
       "      <td>4.925842</td>\n",
       "      <td>44.986134</td>\n",
       "      <td>48.275517</td>\n",
       "      <td>50.694798</td>\n",
       "      <td>52.280366</td>\n",
       "      <td>58.197076</td>\n",
       "    </tr>\n",
       "    <tr>\n",
       "      <th>TX</th>\n",
       "      <td>5.0</td>\n",
       "      <td>46.569426</td>\n",
       "      <td>8.403240</td>\n",
       "      <td>39.506421</td>\n",
       "      <td>43.336921</td>\n",
       "      <td>43.481124</td>\n",
       "      <td>45.418442</td>\n",
       "      <td>61.104221</td>\n",
       "    </tr>\n",
       "    <tr>\n",
       "      <th>TX2</th>\n",
       "      <td>5.0</td>\n",
       "      <td>95.743316</td>\n",
       "      <td>8.503879</td>\n",
       "      <td>85.324611</td>\n",
       "      <td>93.283177</td>\n",
       "      <td>94.203665</td>\n",
       "      <td>97.106833</td>\n",
       "      <td>108.798292</td>\n",
       "    </tr>\n",
       "  </tbody>\n",
       "</table>\n",
       "</div>"
      ],
      "text/plain": [
       "                Weight                                                        \\\n",
       "                 count       mean       std        min        25%        50%   \n",
       "Treatment group                                                                \n",
       "Control            5.0  50.886778  4.925842  44.986134  48.275517  50.694798   \n",
       "TX                 5.0  46.569426  8.403240  39.506421  43.336921  43.481124   \n",
       "TX2                5.0  95.743316  8.503879  85.324611  93.283177  94.203665   \n",
       "\n",
       "                                        \n",
       "                       75%         max  \n",
       "Treatment group                         \n",
       "Control          52.280366   58.197076  \n",
       "TX               45.418442   61.104221  \n",
       "TX2              97.106833  108.798292  "
      ]
     },
     "execution_count": 5,
     "metadata": {},
     "output_type": "execute_result"
    }
   ],
   "source": [
    "df.groupby(\"Treatment group\").describe()"
   ]
  },
  {
   "cell_type": "markdown",
   "id": "6c193a46-d34d-4869-886f-969579a9b69c",
   "metadata": {},
   "source": [
    "We can also assess the normality of the groups.\n",
    "We will use the Shapiro-Wilks but other methods are [supported](https://pingouin-stats.org/build/html/generated/pingouin.normality.html)."
   ]
  },
  {
   "cell_type": "code",
   "execution_count": 14,
   "id": "b254bdad-a530-4eba-9715-6fae41a3f395",
   "metadata": {},
   "outputs": [
    {
     "data": {
      "text/html": [
       "<div>\n",
       "<style scoped>\n",
       "    .dataframe tbody tr th:only-of-type {\n",
       "        vertical-align: middle;\n",
       "    }\n",
       "\n",
       "    .dataframe tbody tr th {\n",
       "        vertical-align: top;\n",
       "    }\n",
       "\n",
       "    .dataframe thead th {\n",
       "        text-align: right;\n",
       "    }\n",
       "</style>\n",
       "<table border=\"1\" class=\"dataframe\">\n",
       "  <thead>\n",
       "    <tr style=\"text-align: right;\">\n",
       "      <th></th>\n",
       "      <th>W</th>\n",
       "      <th>pval</th>\n",
       "      <th>normal</th>\n",
       "    </tr>\n",
       "    <tr>\n",
       "      <th>Treatment group</th>\n",
       "      <th></th>\n",
       "      <th></th>\n",
       "      <th></th>\n",
       "    </tr>\n",
       "  </thead>\n",
       "  <tbody>\n",
       "    <tr>\n",
       "      <th>Control</th>\n",
       "      <td>0.978885</td>\n",
       "      <td>0.928568</td>\n",
       "      <td>True</td>\n",
       "    </tr>\n",
       "    <tr>\n",
       "      <th>TX</th>\n",
       "      <td>0.781479</td>\n",
       "      <td>0.056753</td>\n",
       "      <td>True</td>\n",
       "    </tr>\n",
       "    <tr>\n",
       "      <th>TX2</th>\n",
       "      <td>0.943969</td>\n",
       "      <td>0.694118</td>\n",
       "      <td>True</td>\n",
       "    </tr>\n",
       "  </tbody>\n",
       "</table>\n",
       "</div>"
      ],
      "text/plain": [
       "                        W      pval  normal\n",
       "Treatment group                            \n",
       "Control          0.978885  0.928568    True\n",
       "TX               0.781479  0.056753    True\n",
       "TX2              0.943969  0.694118    True"
      ]
     },
     "execution_count": 14,
     "metadata": {},
     "output_type": "execute_result"
    }
   ],
   "source": [
    "pg.normality(\n",
    "    data=df,\n",
    "    dv=\"Weight\",\n",
    "    group=\"Treatment group\",\n",
    "    method=\"shapiro\",\n",
    ")"
   ]
  },
  {
   "cell_type": "markdown",
   "id": "75192f47-eadf-45d8-973a-b08353362495",
   "metadata": {},
   "source": [
    "We have normality withing groups.\n",
    "Let's visualise our data now.\n",
    "Since the data within groups is normal we will plot the confidence intervals (95%) and mean."
   ]
  },
  {
   "cell_type": "code",
   "execution_count": 18,
   "id": "ca313d20-86ec-40d0-a8b8-a1ad02ba0c65",
   "metadata": {},
   "outputs": [
    {
     "data": {
      "text/plain": [
       "Text(38.097222222222214, 0.5, 'Weight (g)')"
      ]
     },
     "execution_count": 18,
     "metadata": {},
     "output_type": "execute_result"
    },
    {
     "data": {
      "image/png": "[encoded data removed]",
      "text/plain": [
       "<Figure size 640x480 with 1 Axes>"
      ]
     },
     "metadata": {},
     "output_type": "display_data"
    }
   ],
   "source": [
    "ax = sb.swarmplot(\n",
    "    df,\n",
    "    x=\"Treatment group\",\n",
    "    y=\"Weight\",\n",
    "    color=\"k\",\n",
    ")\n",
    "ax = sb.pointplot(\n",
    "    df,\n",
    "    x=\"Treatment group\",\n",
    "    y=\"Weight\",\n",
    "    capsize=0.4,\n",
    "    estimator=\"mean\",\n",
    "    errorbar=(\"ci\", 95),\n",
    "    linestyles=\"none\",\n",
    "    color=\"k\",\n",
    ")\n",
    "ax.set_ylabel(\"Weight (g)\")"
   ]
  },
  {
   "cell_type": "markdown",
   "id": "cc03e0c0-6776-44aa-82e4-af576cdf4958",
   "metadata": {},
   "source": [
    "## Analysis"
   ]
  },
  {
   "cell_type": "markdown",
   "id": "482c1de0-3ac3-4051-88af-8881e8610405",
   "metadata": {},
   "source": [
    "Since we have three different treatment groups we will do a one way ANOVA."
   ]
  },
  {
   "cell_type": "code",
   "execution_count": 22,
   "id": "e462f64a-ae4e-4b11-adab-3f70b955430b",
   "metadata": {},
   "outputs": [
    {
     "data": {
      "text/html": [
       "<div>\n",
       "<style scoped>\n",
       "    .dataframe tbody tr th:only-of-type {\n",
       "        vertical-align: middle;\n",
       "    }\n",
       "\n",
       "    .dataframe tbody tr th {\n",
       "        vertical-align: top;\n",
       "    }\n",
       "\n",
       "    .dataframe thead th {\n",
       "        text-align: right;\n",
       "    }\n",
       "</style>\n",
       "<table border=\"1\" class=\"dataframe\">\n",
       "  <thead>\n",
       "    <tr style=\"text-align: right;\">\n",
       "      <th></th>\n",
       "      <th>Source</th>\n",
       "      <th>ddof1</th>\n",
       "      <th>ddof2</th>\n",
       "      <th>F</th>\n",
       "      <th>p-unc</th>\n",
       "      <th>np2</th>\n",
       "    </tr>\n",
       "  </thead>\n",
       "  <tbody>\n",
       "    <tr>\n",
       "      <th>0</th>\n",
       "      <td>Treatment group</td>\n",
       "      <td>2</td>\n",
       "      <td>12</td>\n",
       "      <td>66.5217</td>\n",
       "      <td>3.207005e-07</td>\n",
       "      <td>0.917266</td>\n",
       "    </tr>\n",
       "  </tbody>\n",
       "</table>\n",
       "</div>"
      ],
      "text/plain": [
       "            Source  ddof1  ddof2        F         p-unc       np2\n",
       "0  Treatment group      2     12  66.5217  3.207005e-07  0.917266"
      ]
     },
     "execution_count": 22,
     "metadata": {},
     "output_type": "execute_result"
    }
   ],
   "source": [
    "pg.anova(data=df, dv=\"Weight\", between=\"Treatment group\")"
   ]
  },
  {
   "cell_type": "markdown",
   "id": "fab96d91-90ea-41f9-b754-842e1e7841a7",
   "metadata": {},
   "source": [
    "The omnibus test shows signficance.\n",
    "Now we can perform our post-hoc pairwise Tukey test to identify which differences are significant."
   ]
  },
  {
   "cell_type": "code",
   "execution_count": 42,
   "id": "97c39bdb-1faf-4eb5-949a-693bea73d1d0",
   "metadata": {},
   "outputs": [
    {
     "data": {
      "text/html": [
       "<div>\n",
       "<style scoped>\n",
       "    .dataframe tbody tr th:only-of-type {\n",
       "        vertical-align: middle;\n",
       "    }\n",
       "\n",
       "    .dataframe tbody tr th {\n",
       "        vertical-align: top;\n",
       "    }\n",
       "\n",
       "    .dataframe thead th {\n",
       "        text-align: right;\n",
       "    }\n",
       "</style>\n",
       "<table border=\"1\" class=\"dataframe\">\n",
       "  <thead>\n",
       "    <tr style=\"text-align: right;\">\n",
       "      <th></th>\n",
       "      <th>A</th>\n",
       "      <th>B</th>\n",
       "      <th>mean(A)</th>\n",
       "      <th>mean(B)</th>\n",
       "      <th>diff</th>\n",
       "      <th>se</th>\n",
       "      <th>T</th>\n",
       "      <th>p-tukey</th>\n",
       "      <th>hedges</th>\n",
       "    </tr>\n",
       "  </thead>\n",
       "  <tbody>\n",
       "    <tr>\n",
       "      <th>0</th>\n",
       "      <td>Control</td>\n",
       "      <td>TX</td>\n",
       "      <td>50.886778</td>\n",
       "      <td>46.569426</td>\n",
       "      <td>4.317352</td>\n",
       "      <td>4.721501</td>\n",
       "      <td>0.914402</td>\n",
       "      <td>6.418996e-01</td>\n",
       "      <td>0.566168</td>\n",
       "    </tr>\n",
       "    <tr>\n",
       "      <th>1</th>\n",
       "      <td>Control</td>\n",
       "      <td>TX2</td>\n",
       "      <td>50.886778</td>\n",
       "      <td>95.743316</td>\n",
       "      <td>-44.856538</td>\n",
       "      <td>4.721501</td>\n",
       "      <td>-9.500482</td>\n",
       "      <td>1.733133e-06</td>\n",
       "      <td>-5.830339</td>\n",
       "    </tr>\n",
       "    <tr>\n",
       "      <th>2</th>\n",
       "      <td>TX</td>\n",
       "      <td>TX2</td>\n",
       "      <td>46.569426</td>\n",
       "      <td>95.743316</td>\n",
       "      <td>-49.173890</td>\n",
       "      <td>4.721501</td>\n",
       "      <td>-10.414884</td>\n",
       "      <td>6.442948e-07</td>\n",
       "      <td>-5.253922</td>\n",
       "    </tr>\n",
       "  </tbody>\n",
       "</table>\n",
       "</div>"
      ],
      "text/plain": [
       "         A    B    mean(A)    mean(B)       diff        se          T  \\\n",
       "0  Control   TX  50.886778  46.569426   4.317352  4.721501   0.914402   \n",
       "1  Control  TX2  50.886778  95.743316 -44.856538  4.721501  -9.500482   \n",
       "2       TX  TX2  46.569426  95.743316 -49.173890  4.721501 -10.414884   \n",
       "\n",
       "        p-tukey    hedges  \n",
       "0  6.418996e-01  0.566168  \n",
       "1  1.733133e-06 -5.830339  \n",
       "2  6.442948e-07 -5.253922  "
      ]
     },
     "execution_count": 42,
     "metadata": {},
     "output_type": "execute_result"
    }
   ],
   "source": [
    "pg.pairwise_tukey(\n",
    "    data=df,\n",
    "    dv=\"Weight\",\n",
    "    between=\"Treatment group\",\n",
    ")"
   ]
  },
  {
   "cell_type": "markdown",
   "id": "54a9600a-9dca-40f4-bf46-754fc4136a40",
   "metadata": {},
   "source": [
    "There is a significant difference between TX2 and the other treatment groups.\n",
    "There is no signifcant difference between control and TX."
   ]
  },
  {
   "cell_type": "markdown",
   "id": "7938eba8-30b9-4ba5-9bcb-a3ef0392b24e",
   "metadata": {},
   "source": [
    "## Assumptions check"
   ]
  },
  {
   "cell_type": "markdown",
   "id": "13dea4f7-6d47-465c-8c2e-877e10c1b382",
   "metadata": {},
   "source": [
    "The one way anova assumes equality of variance.\n",
    "We will use the homoscedasticity function which performs the Brown-Forsythe test."
   ]
  },
  {
   "cell_type": "code",
   "execution_count": 40,
   "id": "9ac5d696-07b5-46db-bb33-8e003929ee67",
   "metadata": {},
   "outputs": [
    {
     "data": {
      "text/html": [
       "<div>\n",
       "<style scoped>\n",
       "    .dataframe tbody tr th:only-of-type {\n",
       "        vertical-align: middle;\n",
       "    }\n",
       "\n",
       "    .dataframe tbody tr th {\n",
       "        vertical-align: top;\n",
       "    }\n",
       "\n",
       "    .dataframe thead th {\n",
       "        text-align: right;\n",
       "    }\n",
       "</style>\n",
       "<table border=\"1\" class=\"dataframe\">\n",
       "  <thead>\n",
       "    <tr style=\"text-align: right;\">\n",
       "      <th></th>\n",
       "      <th>W</th>\n",
       "      <th>pval</th>\n",
       "      <th>equal_var</th>\n",
       "    </tr>\n",
       "  </thead>\n",
       "  <tbody>\n",
       "    <tr>\n",
       "      <th>levene</th>\n",
       "      <td>0.153416</td>\n",
       "      <td>0.859429</td>\n",
       "      <td>True</td>\n",
       "    </tr>\n",
       "  </tbody>\n",
       "</table>\n",
       "</div>"
      ],
      "text/plain": [
       "               W      pval  equal_var\n",
       "levene  0.153416  0.859429       True"
      ]
     },
     "execution_count": 40,
     "metadata": {},
     "output_type": "execute_result"
    }
   ],
   "source": [
    "pg.homoscedasticity(\n",
    "    data=df,\n",
    "    dv=\"Weight\",\n",
    "    group=\"Treatment group\",\n",
    "    # center=\"mean\", # Converts to the Levene test used by JASP\n",
    ")"
   ]
  },
  {
   "cell_type": "markdown",
   "id": "303e3eb1-ef36-4d93-bfa3-27a4c30e2b2f",
   "metadata": {},
   "source": [
    "We have equality of variance so the standard ANOVA assumption is not violated.\n",
    "If we had a violation of this assumption we could instead use the [`welch_anova`](https://pingouin-stats.org/build/html/generated/pingouin.welch_anova.html) function.\n",
    "\n",
    "We also need to test the normality of the residuals.\n",
    "At the time of writing there is no support for getting the residuals in pingouin.\n",
    "However, support will eventually be added.\n",
    "\n",
    "To work around this we will uses the [statsmodels](https://www.statsmodels.org/stable/index.html) package.\n",
    "The interface is a bit more complicated as we need to create an ordinary least squares object and get the residuals.\n",
    "\n",
    "We need specify a linear model in what follows.\n",
    "This may seem strange, as we are not doing regression explicitly.\n",
    "However, there is a close connection between regression and ANOVA which is beyond the scope of this class.\n",
    "Here we will use the R formula syntax where the dependent variable is seperated from the independent variable(s) by ~."
   ]
  },
  {
   "cell_type": "code",
   "execution_count": 31,
   "id": "537a83e8-e8fa-4e35-9742-e5aa1195262d",
   "metadata": {},
   "outputs": [
    {
     "data": {
      "text/plain": [
       "0     -2.611261\n",
       "1      1.393588\n",
       "2      7.310298\n",
       "3     -5.900644\n",
       "4     -0.191980\n",
       "5     -3.232505\n",
       "6     14.534795\n",
       "7     -7.063005\n",
       "8     -1.150984\n",
       "9     -3.088302\n",
       "10   -10.418705\n",
       "11     1.363517\n",
       "12    -1.539650\n",
       "13    -2.460139\n",
       "14    13.054976\n",
       "dtype: float64"
      ]
     },
     "execution_count": 31,
     "metadata": {},
     "output_type": "execute_result"
    }
   ],
   "source": [
    "formula = 'Weight ~ Q(\"Treatment group\")'\n",
    "model = ols(formula, data=df).fit()\n",
    "res = model.resid\n",
    "res"
   ]
  },
  {
   "cell_type": "markdown",
   "id": "87d368d5-46fe-4d01-8546-1475e90a3d6c",
   "metadata": {},
   "source": [
    "Now we can test the normality of the residuals.\n",
    "We will start with the Shapiro-Wilks test."
   ]
  },
  {
   "cell_type": "code",
   "execution_count": 32,
   "id": "13e58bd9-49c8-4ced-9f25-b1f90bc31eca",
   "metadata": {},
   "outputs": [
    {
     "data": {
      "text/html": [
       "<div>\n",
       "<style scoped>\n",
       "    .dataframe tbody tr th:only-of-type {\n",
       "        vertical-align: middle;\n",
       "    }\n",
       "\n",
       "    .dataframe tbody tr th {\n",
       "        vertical-align: top;\n",
       "    }\n",
       "\n",
       "    .dataframe thead th {\n",
       "        text-align: right;\n",
       "    }\n",
       "</style>\n",
       "<table border=\"1\" class=\"dataframe\">\n",
       "  <thead>\n",
       "    <tr style=\"text-align: right;\">\n",
       "      <th></th>\n",
       "      <th>W</th>\n",
       "      <th>pval</th>\n",
       "      <th>normal</th>\n",
       "    </tr>\n",
       "  </thead>\n",
       "  <tbody>\n",
       "    <tr>\n",
       "      <th>0</th>\n",
       "      <td>0.90041</td>\n",
       "      <td>0.096556</td>\n",
       "      <td>True</td>\n",
       "    </tr>\n",
       "  </tbody>\n",
       "</table>\n",
       "</div>"
      ],
      "text/plain": [
       "         W      pval  normal\n",
       "0  0.90041  0.096556    True"
      ]
     },
     "execution_count": 32,
     "metadata": {},
     "output_type": "execute_result"
    }
   ],
   "source": [
    "pg.normality(res)"
   ]
  },
  {
   "cell_type": "markdown",
   "id": "20422ca7-4c14-4317-9e27-0dccf79620e9",
   "metadata": {},
   "source": [
    "We do not reject the null hypothesis the residuals are Normally distributed.\n",
    "\n",
    "It would also be good to visualise the residuals."
   ]
  },
  {
   "cell_type": "code",
   "execution_count": 33,
   "id": "2c24b910-f16e-41a1-9db0-8ba1c17279f0",
   "metadata": {},
   "outputs": [
    {
     "data": {
      "image/png": "[encoded data removed]",
      "text/plain": [
       "<Figure size 640x480 with 1 Axes>"
      ]
     },
     "metadata": {},
     "output_type": "display_data"
    }
   ],
   "source": [
    "ax = sb.histplot(res)\n",
    "sb.despine()"
   ]
  },
  {
   "cell_type": "markdown",
   "id": "99b6d01e-a940-448f-9cf2-275f1e2c3f70",
   "metadata": {},
   "source": [
    "It is a bit hard to see that this is normal.\n",
    "Let's check the Q-Q plot."
   ]
  },
  {
   "cell_type": "code",
   "execution_count": 34,
   "id": "92a13814-cef3-440c-81cc-18d3e69c4b02",
   "metadata": {},
   "outputs": [
    {
     "data": {
      "text/plain": [
       "<Axes: xlabel='Theoretical quantiles', ylabel='Ordered quantiles'>"
      ]
     },
     "execution_count": 34,
     "metadata": {},
     "output_type": "execute_result"
    },
    {
     "data": {
      "image/png": "[encoded data removed]",
      "text/plain": [
       "<Figure size 640x480 with 1 Axes>"
      ]
     },
     "metadata": {},
     "output_type": "display_data"
    }
   ],
   "source": [
    "pg.qqplot(res)"
   ]
  }
 ],
 "metadata": {
  "kernelspec": {
   "display_name": "Python [conda env:dev]",
   "language": "python",
   "name": "conda-env-dev-py"
  },
  "language_info": {
   "codemirror_mode": {
    "name": "ipython",
    "version": 3
   },
   "file_extension": ".py",
   "mimetype": "text/x-python",
   "name": "python",
   "nbconvert_exporter": "python",
   "pygments_lexer": "ipython3",
   "version": "3.11.8"
  }
 },
 "nbformat": 4,
 "nbformat_minor": 5
}
