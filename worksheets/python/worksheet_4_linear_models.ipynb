{
 "cells": [
  {
   "cell_type": "code",
   "execution_count": null,
   "id": "fbf2f9a7-4cc4-4276-a48c-497b79b43258",
   "metadata": {},
   "outputs": [],
   "source": [
    "import pandas as pd\n",
    "import pingouin as pg\n",
    "import statsmodels.api as sm\n",
    "import statsmodels.formula.api as smf\n",
    "import statsmodels.stats.api as sms\n",
    "\n",
    "from pandas.api.types import CategoricalDtype"
   ]
  },
  {
   "cell_type": "markdown",
   "id": "1bbc5cd7-6640-4f55-ae42-81428d85f473",
   "metadata": {},
   "source": [
    "## Overview"
   ]
  },
  {
   "cell_type": "markdown",
   "id": "fd77a248-83d3-4cc9-b7c9-a9c78d727c09",
   "metadata": {},
   "source": [
    "In this worksheet we will look at how to use linear models in Python.\n",
    "While `pingouin` is quite usel for a lot of basic statistics, for more advanced work the `statsmodels` library can be useful.\n",
    "Before jumping into linear models we will first review porforming ANOVAs with `pingouin` and then see how the same thing can be done with `statsmodels`.\n",
    "We will then move onto linear regression and see that there is a close connection between ANOVA and linear regression."
   ]
  },
  {
   "cell_type": "markdown",
   "id": "508712eb-b15c-435e-a67e-d42be6f443d8",
   "metadata": {},
   "source": [
    "### ANOVA"
   ]
  },
  {
   "cell_type": "markdown",
   "id": "10d02e9d-549d-4826-af5f-403c4f11013d",
   "metadata": {},
   "source": [
    "Slicing the data and doing individual t tests is not really the best way to deal with this problem.\n",
    "We have seen how using an ANOVA can help with this problem in the previous worksheet.\n",
    "\n",
    "Though JASP hides this, the ANOVA is really a linear model like linear regression.\n",
    "The main difference is the statistical approach for fitting and testing.\n",
    "The next lines will setup the linear model for us.\n",
    "\n",
    "Let's start by loading our data and doing a two way ANOVA using `pingouin`."
   ]
  },
  {
   "cell_type": "markdown",
   "id": "61d495b5-bed3-42d3-bbfb-752dfaa928d7",
   "metadata": {},
   "source": [
    "As in the previous worksheet we will make sure to setup the categorical and ordinal variables."
   ]
  },
  {
   "cell_type": "code",
   "execution_count": null,
   "id": "416f8859-f162-476d-ad46-5e521940ab69",
   "metadata": {},
   "outputs": [],
   "source": [
    "# Read the data\n",
    "file_name = \"../data/mouse_linear_regression.csv\"\n",
    "df = pd.read_csv(file_name)\n",
    "# Set relevant variables to categorical/ordinal with appropriate levels and order\n",
    "df[\"Genotype\"] = df[\"Genotype\"].astype(\n",
    "    CategoricalDtype(categories=[\"WT\", \"-/-\"], ordered=True)\n",
    ")\n",
    "df[\"Sex\"] = df[\"Sex\"].astype(CategoricalDtype(categories=[\"F\", \"M\"], ordered=False))\n",
    "df[\"Treatment group\"] = df[\"Treatment group\"].astype(\n",
    "    CategoricalDtype(categories=[\"Control\", \"TX\", \"TX2\"], ordered=True)\n",
    ")\n",
    "# Take a look a the data\n",
    "df.head()"
   ]
  },
  {
   "cell_type": "markdown",
   "id": "aa8da1fc-1e95-482b-9a0d-62552a629576",
   "metadata": {},
   "source": [
    "Now let's use `pingouin` to do a two way ANOVA with Genotype and Treatment Group."
   ]
  },
  {
   "cell_type": "code",
   "execution_count": null,
   "id": "09396137-ac1f-4e41-840f-995c8a47ca88",
   "metadata": {},
   "outputs": [],
   "source": [
    "pg.anova(\n",
    "    data=df,\n",
    "    dv=\"Weight\",\n",
    "    between=[\"Genotype\", \"Treatment group\"],\n",
    ")"
   ]
  },
  {
   "cell_type": "markdown",
   "id": "2848bbbd-d849-4619-83c0-3b8321912118",
   "metadata": {},
   "source": [
    "While two way ANOVAs are one to approach this analysis, we could also use multivariable linear regression.\n",
    "Either would be fine here, but as more variables are included the regression becomes more appropriate.\n",
    "\n",
    "Linear regression support in `pingouin` is a bit limited at the moment, so we will use the `statsmodels` package instead.\n",
    "The `statsmodels` package has a lot of functionality, but it is not as user friendly as `pingouin`.\n",
    "We will start simple with Weight as our dependent variable and Genotype and Treatment group as our indepdent variables."
   ]
  },
  {
   "cell_type": "markdown",
   "id": "a17f8e1b-6f49-4e57-8bb9-ecca9f3d02d6",
   "metadata": {},
   "source": [
    "The first thing we need to do is create \"design\" matrix.\n",
    "These are a way to encode a linear model for the software to analyse.\n",
    "We will use the `ols` function from `statsmodels.formula.api` subpackage, which we have imported as `smf`.\n",
    "This is a helper function to create a linear model.\n",
    "This allows us to use what are called R style formulas for specifying statistical models.\n",
    "\n",
    "> Most programming language don't like dealing with characters like spaces and sometimes symbols like !.\n",
    "> If the columns in your data have these symbols you can either rename them or in patsy use the Q syntax.\n",
    "> Below we use this for \"Treatment group\" because there is a space."
   ]
  },
  {
   "cell_type": "code",
   "execution_count": null,
   "id": "ea387fa5-1d9a-48f3-90a2-a092965cbfb7",
   "metadata": {},
   "outputs": [],
   "source": [
    "model = smf.ols('Weight ~ Genotype + Q(\"Treatment group\")', data=df)\n",
    "model_fit = model.fit()"
   ]
  },
  {
   "cell_type": "markdown",
   "id": "22f1c093-a337-4bb3-a3d1-47c703838cd4",
   "metadata": {},
   "source": [
    "Before analysing the data like we would in a regression analysis, let's consider an ANOVA with `statsmodels`."
   ]
  },
  {
   "cell_type": "code",
   "execution_count": null,
   "id": "bea75608-3422-4e6b-b594-87008d982ae8",
   "metadata": {},
   "outputs": [],
   "source": [
    "sms.anova_lm(model_fit)"
   ]
  },
  {
   "cell_type": "markdown",
   "id": "2d416212-10a0-4ce8-b785-1fab7bedff2c",
   "metadata": {},
   "source": [
    "This does not quite match the `pingouin` analysis because `statsmodels` does not automatically add an interaction.\n",
    "\n",
    "We can do this by specifying it in the formula."
   ]
  },
  {
   "cell_type": "code",
   "execution_count": null,
   "id": "a2b5b01f-fd32-44e1-b187-956b512bcab0",
   "metadata": {},
   "outputs": [],
   "source": [
    "model = smf.ols('Weight ~ Genotype + Q(\"Treatment group\") + Genotype*Q(\"Treatment group\")', data=df)\n",
    "model_fit = model.fit()\n",
    "sms.anova_lm(model_fit)"
   ]
  },
  {
   "cell_type": "markdown",
   "id": "f6cf2a86-7326-433e-8fc2-51cd83b48b58",
   "metadata": {},
   "source": [
    "Now this lines up with the `pingoin` analysis!"
   ]
  },
  {
   "cell_type": "markdown",
   "id": "654000ae-efb0-425b-a0dd-b8e7963137c9",
   "metadata": {},
   "source": [
    "The omnibus ANOVA test rejects the Null hypothesis for all terms.\n",
    "We can do post hoc comparisons using the Tukey test just like with `pingoin`.\n",
    "Let's take a look at Treatment group."
   ]
  },
  {
   "cell_type": "code",
   "execution_count": null,
   "id": "bb878705-2c03-4b36-872b-9bfe4a67dfca",
   "metadata": {},
   "outputs": [],
   "source": [
    "res = sms.multicomp.pairwise_tukeyhsd(df[\"Weight\"], df[\"Treatment group\"])\n",
    "print(res)"
   ]
  },
  {
   "cell_type": "markdown",
   "id": "1808b5c5-594e-4936-a178-22781739b546",
   "metadata": {},
   "source": [
    "If you compare these results to the previous worksheet analysis using `pingouin` you will see the are the same."
   ]
  },
  {
   "cell_type": "markdown",
   "id": "f79b44a9-7ea8-463d-9e30-469126c80ee6",
   "metadata": {},
   "source": [
    "### Linear regression"
   ]
  },
  {
   "cell_type": "markdown",
   "id": "fa0c57e9-51ac-4595-a999-966ec6550f8b",
   "metadata": {},
   "source": [
    "Let's try a linear regression now.\n",
    "This is a bit simpler :)\n",
    "\n",
    "Let's start without interaction terms.\n",
    "\n",
    "> Note: `statsmodels` does not report the p-value for Durbin-Watson, but instead provides the Jarque-Bera statistic for model assumptions."
   ]
  },
  {
   "cell_type": "code",
   "execution_count": null,
   "id": "03132359-4811-47c9-bc97-05c99028f059",
   "metadata": {},
   "outputs": [],
   "source": [
    "model = smf.ols('Weight ~ Genotype + Q(\"Treatment group\")', data=df)\n",
    "model_fit = model.fit()\n",
    "model_fit.summary()"
   ]
  },
  {
   "cell_type": "markdown",
   "id": "cb48705c-a439-49dc-8f2b-74f08c5e9a48",
   "metadata": {},
   "source": [
    "We can do a qqplot of the residuals to check our assumptions."
   ]
  },
  {
   "cell_type": "code",
   "execution_count": null,
   "id": "8266dfed-de0d-44f3-8d4f-58be11752a54",
   "metadata": {},
   "outputs": [],
   "source": [
    "ax = sm.graphics.qqplot(model_fit.resid, line=\"q\")"
   ]
  },
  {
   "cell_type": "markdown",
   "id": "40669914-ee89-452a-b52a-120a20389c43",
   "metadata": {},
   "source": [
    "The QQ plot looks okay, not great.\n",
    "\n",
    "Let's see what happens if we add an interaction between genotype and treatment."
   ]
  },
  {
   "cell_type": "code",
   "execution_count": null,
   "id": "e6e34e08-dd4e-4903-9db5-a3daf3a1bb7e",
   "metadata": {},
   "outputs": [],
   "source": [
    "model = smf.ols('Weight ~ Genotype + Q(\"Treatment group\") + Genotype*Q(\"Treatment group\")', data=df)\n",
    "model_fit = model.fit()\n",
    "model_fit.summary()"
   ]
  },
  {
   "cell_type": "markdown",
   "id": "60d25494-17f1-4bd2-8c45-bb7c5ac15451",
   "metadata": {},
   "source": [
    "First note the AIC for the model including interactions is lower, suggesting a better model.\n",
    "\n",
    "Let's take a look at the QQ plot."
   ]
  },
  {
   "cell_type": "code",
   "execution_count": null,
   "id": "4f51a24f-5915-431d-a680-966c8d78f97d",
   "metadata": {},
   "outputs": [],
   "source": [
    "ax = sm.graphics.qqplot(model_fit.resid, line=\"q\")"
   ]
  },
  {
   "cell_type": "markdown",
   "id": "4d6bc0c0-6bc4-438e-b203-7a91bcec4754",
   "metadata": {},
   "source": [
    "This does not look great.\n",
    "One cause could be that we are missing a term."
   ]
  },
  {
   "cell_type": "code",
   "execution_count": null,
   "id": "5538c73d-3a75-4312-9202-f1856a18f719",
   "metadata": {},
   "outputs": [],
   "source": [
    "model = smf.ols('Weight ~ Genotype + Q(\"Treatment group\") + Sex + Genotype*Q(\"Treatment group\")', data=df)\n",
    "model_fit = model.fit()\n",
    "model_fit.summary()"
   ]
  },
  {
   "cell_type": "markdown",
   "id": "41d7958f-4387-4560-abe6-98ad491c3e0d",
   "metadata": {},
   "source": [
    "The AIC has decreased with the addition of Sex.\n",
    "\n",
    "Let's take a look at the QQ plot."
   ]
  },
  {
   "cell_type": "code",
   "execution_count": null,
   "id": "cdbea88f-5e5d-4487-8bf1-aff1731130d7",
   "metadata": {},
   "outputs": [],
   "source": [
    "ax = sm.graphics.qqplot(model_fit.resid, line=\"q\")"
   ]
  },
  {
   "cell_type": "markdown",
   "id": "852217ba-28f2-4dbb-ae4a-13b3aa65838f",
   "metadata": {},
   "source": [
    "This looks a bit better.\n",
    "We still have not accounted for Baseline weight yet.\n",
    "Let's try incoporating that into the model."
   ]
  },
  {
   "cell_type": "code",
   "execution_count": null,
   "id": "bb3015e8-5ced-4fb9-994e-83eb7be12c04",
   "metadata": {},
   "outputs": [],
   "source": [
    "model = smf.ols('Weight ~ Genotype + Q(\"Treatment group\") + Sex + Q(\"Baseline weight\") + Genotype*Q(\"Treatment group\")', data=df)\n",
    "model_fit = model.fit()\n",
    "model_fit.summary()"
   ]
  },
  {
   "cell_type": "code",
   "execution_count": null,
   "id": "69929a78-e206-4c5d-b306-a2c9549addb8",
   "metadata": {},
   "outputs": [],
   "source": [
    "ax = sm.graphics.qqplot(model_fit.resid, line=\"q\")"
   ]
  },
  {
   "cell_type": "markdown",
   "id": "d9610d37-792f-45c7-85e0-eafc4033e8bc",
   "metadata": {},
   "source": [
    "Adding Baseline weight has improved the model fit again as assessed by the AIC.\n",
    "\n",
    "Now let's take a look at the VIF to determine if there is any co-linearity.\n",
    "Getting the VIF out is not as easy in `statsmodels` as JASP.\n",
    "We first need access to our data matrix.\n",
    "Coveniently this is stored in the `model` object as an attribute `model.exog`."
   ]
  },
  {
   "cell_type": "code",
   "execution_count": null,
   "id": "42f87c17-36a7-4ac0-8540-8c324df702c9",
   "metadata": {},
   "outputs": [],
   "source": [
    "model.exog"
   ]
  },
  {
   "cell_type": "markdown",
   "id": "ece9a7a1-f7c5-4686-83ea-91f5e45ab1b1",
   "metadata": {},
   "source": [
    "We can find out what the matrix columns represent using the `exog_names` attribute."
   ]
  },
  {
   "cell_type": "code",
   "execution_count": null,
   "id": "13735962-1a94-46ab-a496-e65da61750e2",
   "metadata": {},
   "outputs": [],
   "source": [
    "model.exog_names"
   ]
  },
  {
   "cell_type": "markdown",
   "id": "63582c06-18a7-4c73-9e64-91ddb13476c9",
   "metadata": {},
   "source": [
    "We can also convert this to a DataFrame for easier inspection."
   ]
  },
  {
   "cell_type": "code",
   "execution_count": null,
   "id": "1bdae6df-f3b4-4f2c-ab88-d340899ea407",
   "metadata": {},
   "outputs": [],
   "source": [
    "exog_df = pd.DataFrame(model.exog, columns=model.exog_names)\n",
    "exog_df.head()"
   ]
  },
  {
   "cell_type": "markdown",
   "id": "8a83eaea-f287-45ae-9bcc-65b3c4039701",
   "metadata": {},
   "source": [
    "Getting the VIF using `statsmodels` is pretty involved.\n",
    "We need to import the `variance_inflation_factor` function which takes two arguments.\n",
    "\n",
    "1. The data matrix.\n",
    "2. The index of the variable we want to get the VIF for.\n",
    "\n",
    "I am using quite a few Python tricks to get this into a nice `pandas` Series object.\n",
    "\n",
    "- `enumerate` is used to count the index of each column\n",
    "- dictionary comprehension is used to loop through the columns and test the VIF\n",
    "- I use the generated dictionary to create a Series object called `vif`"
   ]
  },
  {
   "cell_type": "code",
   "execution_count": null,
   "id": "0b761176-ed6f-42ec-a439-84862f5b794b",
   "metadata": {},
   "outputs": [],
   "source": [
    "from statsmodels.stats.outliers_influence import variance_inflation_factor\n",
    "\n",
    "vif = pd.Series({c: variance_inflation_factor(exog_df.values, i) for i, c in enumerate(exog_df.columns)})\n",
    "vif"
   ]
  },
  {
   "cell_type": "markdown",
   "id": "efe08595-eb58-48c7-807b-76067a98853d",
   "metadata": {},
   "source": [
    "We will ignore the VIF of the intercept, as it is uncommon to worry about it.\n",
    "Baseline weight and Sex have VIFs > 5.\n",
    "Let's try removing Sex and looking at the model."
   ]
  },
  {
   "cell_type": "code",
   "execution_count": null,
   "id": "5ce46e77-e53e-44b6-a30e-dfb9396eceb7",
   "metadata": {},
   "outputs": [],
   "source": [
    "model = smf.ols('Weight ~ Genotype + Q(\"Treatment group\") + Q(\"Baseline weight\") + Genotype*Q(\"Treatment group\")', data=df)\n",
    "model_fit = model.fit()\n",
    "model_fit.summary()"
   ]
  },
  {
   "cell_type": "code",
   "execution_count": null,
   "id": "64ac3e63-2b5c-4859-859e-f61db9ab9a5f",
   "metadata": {},
   "outputs": [],
   "source": [
    "ax = sm.graphics.qqplot(model_fit.resid, line=\"q\")"
   ]
  },
  {
   "cell_type": "code",
   "execution_count": null,
   "id": "34d971b9-a026-4621-bb02-43c8b5083012",
   "metadata": {},
   "outputs": [],
   "source": [
    "exog_df = pd.DataFrame(model.exog, columns=model.exog_names)\n",
    "vif = pd.Series({c: variance_inflation_factor(exog_df.values, i) for i, c in enumerate(exog_df.columns)})\n",
    "vif"
   ]
  },
  {
   "cell_type": "markdown",
   "id": "41890e71-9c5b-4e2d-867d-ca9b73f91b7b",
   "metadata": {},
   "source": [
    "The AIC of the model has improved with Sex removed.\n",
    "The QQ plot also looks reasonable.\n",
    "Finally, all the VIFs are less than 5 which is an improvement.\n",
    "\n",
    "> In class we said VIF < 2.5, but 5 is sometimes used as a threshold.\n",
    "> You could try removing additional variables to see if you can get the VIF down to 2.5"
   ]
  },
  {
   "cell_type": "markdown",
   "id": "f9cdf085-75b1-4cda-8ec9-2befa27763fd",
   "metadata": {},
   "source": [
    "You can also look at the other assumption checks.\n",
    "Functionality is provided in `statsmodels` but it takes a bit of work.\n",
    "\n",
    "For more on linear regression in Python you can see this [book chapter](https://ethanweed.github.io/pythonbook/05.04-regression.html)."
   ]
  },
  {
   "cell_type": "code",
   "execution_count": null,
   "id": "81eb4b5e-5ebb-467f-a091-ef7d927350da",
   "metadata": {},
   "outputs": [],
   "source": []
  }
 ],
 "metadata": {
  "kernelspec": {
   "display_name": "Python [conda env:dev]",
   "language": "python",
   "name": "conda-env-dev-py"
  },
  "language_info": {
   "codemirror_mode": {
    "name": "ipython",
    "version": 3
   },
   "file_extension": ".py",
   "mimetype": "text/x-python",
   "name": "python",
   "nbconvert_exporter": "python",
   "pygments_lexer": "ipython3",
   "version": "3.11.8"
  }
 },
 "nbformat": 4,
 "nbformat_minor": 5
}
