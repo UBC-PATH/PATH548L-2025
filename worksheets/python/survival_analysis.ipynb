{
 "cells": [
  {
   "cell_type": "code",
   "execution_count": null,
   "id": "bcf14804-be08-426c-8078-44b5b0728539",
   "metadata": {},
   "outputs": [],
   "source": [
    "from lifelines import CoxPHFitter, KaplanMeierFitter\n",
    "from lifelines.plotting import add_at_risk_counts\n",
    "from lifelines.statistics import logrank_test\n",
    "from pandas.api.types import CategoricalDtype\n",
    "\n",
    "import matplotlib.pyplot as pp\n",
    "import pandas as pd"
   ]
  },
  {
   "cell_type": "markdown",
   "id": "ac3c7f7a-47fa-42d5-8711-752aabdb586e",
   "metadata": {},
   "source": [
    "## Load data"
   ]
  },
  {
   "cell_type": "code",
   "execution_count": null,
   "id": "9552beae-f5e8-40f4-97c9-f465f85312b4",
   "metadata": {},
   "outputs": [],
   "source": [
    "file_name = \"../data/Survival Dataset.xlsx\"\n",
    "df = pd.read_excel(file_name)\n",
    "df[\"Sex\"] = df[\"Sex\"].astype(CategoricalDtype(categories=[\"Female\", \"Male\"], ordered=False))\n",
    "df[\"P53 Bin\"] = df[\"P53 Bin\"].astype(\n",
    "    CategoricalDtype(categories=[\"WT\", \"Mutated\"], ordered=True)\n",
    ")\n",
    "df.head()"
   ]
  },
  {
   "cell_type": "code",
   "execution_count": null,
   "id": "8bbed48e-8624-4ccb-ab6c-35271fa8c17b",
   "metadata": {},
   "outputs": [],
   "source": [
    "df.columns"
   ]
  },
  {
   "cell_type": "markdown",
   "id": "e6fe9d70-372a-48aa-9c0b-c7a0f0cbd0b7",
   "metadata": {},
   "source": [
    "## Univariable survival"
   ]
  },
  {
   "cell_type": "markdown",
   "id": "036fbab5-26ad-4295-be6f-c6471379531d",
   "metadata": {},
   "source": [
    "Let's start with a simple plot of overall survival across the cohort.\n",
    "\n",
    "The first step is to get our time and even variables.\n",
    "We have to be careful about how we encode the censoring event.\n",
    "The [lifelines](https://lifelines.readthedocs.io/en/latest) package we are using encodes observed events.\n",
    "This is the opposite of the dataset so we use 1 - event to change things."
   ]
  },
  {
   "cell_type": "code",
   "execution_count": null,
   "id": "7ab6edb3-a7c3-4e87-b615-5affe3fc717c",
   "metadata": {},
   "outputs": [],
   "source": [
    "# Get our time and censoring variables\n",
    "time = df[\"Survival Time\"]\n",
    "# Lifelines encodes events a ones, which is the opposite of the dataset\n",
    "event = 1 - df[\"Disease Specific Censor\"]"
   ]
  },
  {
   "cell_type": "markdown",
   "id": "8dd41050-2121-4f82-b6da-776e5f95dddb",
   "metadata": {},
   "source": [
    "Now we have our data setup, we can fit the model."
   ]
  },
  {
   "cell_type": "code",
   "execution_count": null,
   "id": "47aa5a81-1922-4a23-8e1c-792a82521af2",
   "metadata": {},
   "outputs": [],
   "source": [
    "# Fit the KM curve\n",
    "kmf = KaplanMeierFitter()\n",
    "kmf.fit(time, event_observed=event)"
   ]
  },
  {
   "cell_type": "markdown",
   "id": "abdcd249-a656-40e1-8ac6-35cdf5804976",
   "metadata": {},
   "source": [
    "Next we can plot the results.\n",
    "Remember this will be for everyone in the cohort."
   ]
  },
  {
   "cell_type": "code",
   "execution_count": null,
   "id": "ee7922af-396b-4fc9-b7c8-8f50eb50c00e",
   "metadata": {},
   "outputs": [],
   "source": [
    "kmf.plot_survival_function()"
   ]
  },
  {
   "cell_type": "markdown",
   "id": "58f56d30-1fbb-4d11-bc48-a51ec7d7c04a",
   "metadata": {},
   "source": [
    "We can add the risk table as well."
   ]
  },
  {
   "cell_type": "code",
   "execution_count": null,
   "id": "7561cc46-88a2-431f-b375-7be05b1cc91f",
   "metadata": {},
   "outputs": [],
   "source": [
    "kmf.plot_survival_function(at_risk_counts=True)"
   ]
  },
  {
   "cell_type": "markdown",
   "id": "2fae43df-c9a9-4f93-b3ac-8fc6f50f87c8",
   "metadata": {},
   "source": [
    "We can also get rid of the confidence intervals if we want."
   ]
  },
  {
   "cell_type": "code",
   "execution_count": null,
   "id": "2a8312c9-3743-4e53-90fd-23ee425f74d5",
   "metadata": {},
   "outputs": [],
   "source": [
    "kmf.plot_survival_function(at_risk_counts=True, ci_show=False)"
   ]
  },
  {
   "cell_type": "markdown",
   "id": "80d09f73-3ef7-4398-a4ce-21a8486e9a07",
   "metadata": {},
   "source": [
    "### Comparing groups"
   ]
  },
  {
   "cell_type": "markdown",
   "id": "c214e446-a0d6-44e5-b2cf-691e7a9e8311",
   "metadata": {},
   "source": [
    "Now let's compare surival by sex.\n",
    "\n",
    "Do do this we will fit on both male and femal data separately and plot.\n",
    "We'll start by finding the male observations"
   ]
  },
  {
   "cell_type": "code",
   "execution_count": null,
   "id": "20a64998-2a04-48a0-a84d-75d68af1d164",
   "metadata": {},
   "outputs": [],
   "source": [
    "male_idx = df[\"Sex\"] == \"Male\"\n",
    "male_idx"
   ]
  },
  {
   "cell_type": "markdown",
   "id": "3627f297-71d1-49c7-b723-cd15448ef972",
   "metadata": {},
   "source": [
    "Plotting just the males."
   ]
  },
  {
   "cell_type": "code",
   "execution_count": null,
   "id": "6c4cbce1-7c62-40e0-abec-13d71e465698",
   "metadata": {},
   "outputs": [],
   "source": [
    "kmf.fit(time[male_idx], event_observed=event[male_idx])\n",
    "kmf.plot_survival_function()"
   ]
  },
  {
   "cell_type": "markdown",
   "id": "e4820bbf-d06a-46b8-9284-c31016e844b7",
   "metadata": {},
   "source": [
    "To get the female index, we can negate the male index.\n",
    "In Python the `~` operator does a boolean not operation i.e. flips True->False and False->True\n",
    "\n",
    ">You could also do `df[\"Sex\"] == \"Female\"`."
   ]
  },
  {
   "cell_type": "code",
   "execution_count": null,
   "id": "44c3ddcd-cbde-4d10-b7f2-18d55a55e4df",
   "metadata": {},
   "outputs": [],
   "source": [
    "~male_idx"
   ]
  },
  {
   "cell_type": "code",
   "execution_count": null,
   "id": "033698bc-3b0b-4b96-9e75-0ab360c825f3",
   "metadata": {},
   "outputs": [],
   "source": [
    "kmf.fit(time[~male_idx], event_observed=event[~male_idx])\n",
    "kmf.plot_survival_function()"
   ]
  },
  {
   "cell_type": "markdown",
   "id": "2b993ed9-6d3c-4850-8fdf-4da4c188c401",
   "metadata": {},
   "source": [
    "Now doing both together."
   ]
  },
  {
   "cell_type": "code",
   "execution_count": null,
   "id": "d684bd56-7828-4e82-a1a7-5caef6249b83",
   "metadata": {},
   "outputs": [],
   "source": [
    "kmf.fit(time[male_idx], event_observed=event[male_idx], label=\"Male\")\n",
    "kmf.plot_survival_function()\n",
    "\n",
    "kmf.fit(time[~male_idx], event_observed=event[~male_idx], label=\"Female\")\n",
    "kmf.plot_survival_function()"
   ]
  },
  {
   "cell_type": "markdown",
   "id": "c6583fb0-abe4-4786-9cd7-ad54b44425ca",
   "metadata": {},
   "source": [
    "Getting the risk table takes a bit more work.\n",
    "We need to create a `Figure`, then add an `Axes` to be shared by the plots."
   ]
  },
  {
   "cell_type": "code",
   "execution_count": null,
   "id": "2151413f-ccfc-4c5e-9851-239e573877a2",
   "metadata": {},
   "outputs": [],
   "source": [
    "# Plotting area\n",
    "fig = pp.figure()\n",
    "ax = fig.add_subplot(1, 1, 1)\n",
    "# Male curve\n",
    "kmf_m = KaplanMeierFitter()\n",
    "kmf_m.fit(time[male_idx], event_observed=event[male_idx], label=\"Male\")\n",
    "kmf_m.plot_survival_function(ax=ax)\n",
    "# Female curve\n",
    "kmf_f = KaplanMeierFitter()\n",
    "kmf_f.fit(time[~male_idx], event_observed=event[~male_idx], label=\"Female\")\n",
    "kmf_f.plot_survival_function(ax=ax)\n",
    "# Set the x axis label\n",
    "ax.set_xlabel(\"Survival time\")\n",
    "# Add the risk table\n",
    "add_at_risk_counts(kmf_m, kmf_f, ax=ax)\n",
    "# Fixes up the spacing\n",
    "fig.tight_layout()"
   ]
  },
  {
   "cell_type": "markdown",
   "id": "3278c826-2f7b-4729-af2c-746b72e49562",
   "metadata": {},
   "source": [
    "Let's use the p53 column.\n",
    "We will use a `for` loop to reduce the redundancy in the code."
   ]
  },
  {
   "cell_type": "code",
   "execution_count": null,
   "id": "be3bd1ec-b500-478c-8c85-872cf77795e4",
   "metadata": {},
   "outputs": [],
   "source": [
    "# Plotting area\n",
    "fig = pp.figure()\n",
    "ax = fig.add_subplot(1, 1, 1)\n",
    "for val in df[\"P53 Bin\"].unique():\n",
    "    time = df.loc[df[\"P53 Bin\"] == val, \"Survival Time\"]\n",
    "    event = df.loc[df[\"P53 Bin\"] == val, \"Disease Specific Censor\"]\n",
    "    event = 1 - event\n",
    "    kmf = KaplanMeierFitter()\n",
    "    kmf_m.fit(time, event_observed=event, label=val)\n",
    "    kmf_m.plot_survival_function(ax=ax)\n",
    "# Set the x axis label\n",
    "ax.set_xlabel(\"Survival time\")\n",
    "# Add the risk table\n",
    "add_at_risk_counts(kmf_m, kmf_f, ax=ax)\n",
    "# Fixes up the spacing\n",
    "fig.tight_layout()"
   ]
  },
  {
   "cell_type": "markdown",
   "id": "c37fa1b5-0c47-4a28-9d08-45dbcd14e77a",
   "metadata": {},
   "source": [
    "### Significance testing"
   ]
  },
  {
   "cell_type": "markdown",
   "id": "42d0e860-b424-4213-8a01-4f7acf6d054a",
   "metadata": {},
   "source": [
    "We can do the log rank test for signficance.\n",
    "We'll need to setup the data for this again."
   ]
  },
  {
   "cell_type": "code",
   "execution_count": null,
   "id": "7b1064d2-bfd4-49e0-ba9f-a30b113dfe4b",
   "metadata": {},
   "outputs": [],
   "source": [
    "time = df[\"Survival Time\"]\n",
    "event = 1 - df[\"Disease Specific Censor\"]\n",
    "wt_idx = df[\"P53 Bin\"] == \"WT\""
   ]
  },
  {
   "cell_type": "code",
   "execution_count": null,
   "id": "bb10986c-03d9-4b95-9ff3-6c3508392d6c",
   "metadata": {},
   "outputs": [],
   "source": [
    "results = logrank_test(time[wt_idx], time[~wt_idx], event[wt_idx], event[~wt_idx])\n",
    "results.print_summary()"
   ]
  },
  {
   "cell_type": "code",
   "execution_count": null,
   "id": "0b445a89-7a2f-46a2-a416-cca79717aace",
   "metadata": {},
   "outputs": [],
   "source": [
    "results.p_value"
   ]
  },
  {
   "cell_type": "markdown",
   "id": "91921eeb-209c-4e8f-92f8-1bfb139eacac",
   "metadata": {},
   "source": [
    "## Multivariable analysis"
   ]
  },
  {
   "cell_type": "markdown",
   "id": "6c94a9ae-9a2c-46b2-9508-8d07a35b7c42",
   "metadata": {},
   "source": [
    "We can also do a Cox proportional hazard analysis.\n",
    "We will pass our DataFrame directly in and specify arguments for this analysis.\n",
    "Thus, we need to fix the event column coding."
   ]
  },
  {
   "cell_type": "code",
   "execution_count": null,
   "id": "9f9cc273-24f4-42aa-8e36-5d20286f5db7",
   "metadata": {},
   "outputs": [],
   "source": [
    "df[\"event\"] = 1 - df[\"Disease Specific Censor\"]"
   ]
  },
  {
   "cell_type": "markdown",
   "id": "276b344f-062c-45e3-823a-54c2b099f20d",
   "metadata": {},
   "source": [
    "Now we can fit a Cox model.\n",
    "We will use sex and p53 status first.\n",
    "\n",
    "> We need to do some work in the for p53 column because it contains white space.\n",
    "> Specifically, we use ' to wrap the formula and Q(\"P53 Bin\") to deal with the p53 bin."
   ]
  },
  {
   "cell_type": "code",
   "execution_count": null,
   "id": "916b20b6-a0ce-45f1-bbd7-b39699cbb5e9",
   "metadata": {},
   "outputs": [],
   "source": [
    "cph = CoxPHFitter()\n",
    "cph.fit(df, duration_col=\"Survival Time\", event_col=\"event\", formula='Sex + Q(\"P53 Bin\")')\n",
    "cph.print_summary()"
   ]
  },
  {
   "cell_type": "markdown",
   "id": "7a4a28f8-c62e-439b-91e8-43781ba1edd5",
   "metadata": {},
   "source": [
    "So it seems sex and p53 status are both signficant under this model.\n",
    "Let's try adding an interaction between the two.\n",
    "Let's try a simpler model with just p53 status and see if it is a better fit."
   ]
  },
  {
   "cell_type": "code",
   "execution_count": null,
   "id": "e310d453-a22d-40ca-8707-25350d454ffa",
   "metadata": {},
   "outputs": [],
   "source": [
    "cph = CoxPHFitter()\n",
    "cph.fit(df, duration_col=\"Survival Time\", event_col=\"event\", formula='Q(\"P53 Bin\")')\n",
    "cph.print_summary()"
   ]
  },
  {
   "cell_type": "markdown",
   "id": "8de7fdc1-aa1d-4ce7-8e2d-0eb372157651",
   "metadata": {},
   "source": [
    "The partial AIC indicates this is not a better model.\n",
    "\n",
    "Let's try adding an interaction term."
   ]
  },
  {
   "cell_type": "code",
   "execution_count": null,
   "id": "407c4890-e1a3-4ded-a59c-2a81654399b7",
   "metadata": {},
   "outputs": [],
   "source": [
    "cph = CoxPHFitter()\n",
    "cph.fit(df, duration_col=\"Survival Time\", event_col=\"event\", formula='Sex + Q(\"P53 Bin\") + Sex * Q(\"P53 Bin\")')\n",
    "cph.print_summary()"
   ]
  },
  {
   "cell_type": "markdown",
   "id": "9b4b8700-add7-46be-900e-8787546e9261",
   "metadata": {},
   "source": [
    "Adding an interaction does not improve the model fit either.\n",
    "\n",
    "Let's go back to our best model and visualize it with a forest plot."
   ]
  },
  {
   "cell_type": "code",
   "execution_count": null,
   "id": "e7d81fe8-272c-4e6b-a943-0aa043a29526",
   "metadata": {},
   "outputs": [],
   "source": [
    "cph = CoxPHFitter()\n",
    "cph.fit(df, duration_col=\"Survival Time\", event_col=\"event\", formula='Sex + Q(\"P53 Bin\")')\n",
    "cph.plot()"
   ]
  },
  {
   "cell_type": "markdown",
   "id": "f098929e-27cd-4042-817c-b4bdcd9cfeec",
   "metadata": {},
   "source": [
    "By default lifelines plots the log hazard ratios.\n",
    "To align with our notes we can show the hazard ratios instead."
   ]
  },
  {
   "cell_type": "code",
   "execution_count": null,
   "id": "6ab9d2a5-5626-4ffd-9d4c-a96e90c95af6",
   "metadata": {},
   "outputs": [],
   "source": [
    "cph.plot(hazard_ratios=True)"
   ]
  },
  {
   "cell_type": "markdown",
   "id": "630c6212-b961-4b3c-857c-b126f6364218",
   "metadata": {},
   "source": [
    "Let's include a continuous variable, age, in the model."
   ]
  },
  {
   "cell_type": "code",
   "execution_count": null,
   "id": "567da6fb-ab21-42b7-a515-58246d9bc9d2",
   "metadata": {},
   "outputs": [],
   "source": [
    "cph = CoxPHFitter()\n",
    "cph.fit(df, duration_col=\"Survival Time\", event_col=\"event\", formula='Sex + Q(\"P53 Bin\") + Q(\"Age at Surgery\")')\n",
    "cph.plot(hazard_ratios=True)"
   ]
  },
  {
   "cell_type": "markdown",
   "id": "90041599-52f6-4229-a6d9-a9554a6f8064",
   "metadata": {},
   "source": [
    "The plot is a bit ugly, but it is just a matplotlib `Axes` so we can make some changes.\n",
    "\n",
    "Let's start by fixing the y-axis labels."
   ]
  },
  {
   "cell_type": "code",
   "execution_count": null,
   "id": "61a52c7e-fd4f-43ad-8d5c-3cf9d77f4e14",
   "metadata": {},
   "outputs": [],
   "source": [
    "ax = cph.plot(hazard_ratios=True)\n",
    "# Note we start from the bottom up in the labelling\n",
    "ax.set_yticklabels([\"Age at surgery\", \"Male\", \"P53 Mut\"])"
   ]
  },
  {
   "cell_type": "markdown",
   "id": "04c27426-7460-4841-bf14-efaa7ff168ea",
   "metadata": {},
   "source": [
    "- TODO: Manual plotting"
   ]
  }
 ],
 "metadata": {
  "kernelspec": {
   "display_name": "Python [conda env:dev]",
   "language": "python",
   "name": "conda-env-dev-py"
  },
  "language_info": {
   "codemirror_mode": {
    "name": "ipython",
    "version": 3
   },
   "file_extension": ".py",
   "mimetype": "text/x-python",
   "name": "python",
   "nbconvert_exporter": "python",
   "pygments_lexer": "ipython3",
   "version": "3.11.8"
  }
 },
 "nbformat": 4,
 "nbformat_minor": 5
}
