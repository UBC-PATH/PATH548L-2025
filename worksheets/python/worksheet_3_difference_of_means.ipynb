{
 "cells": [
  {
   "cell_type": "code",
   "execution_count": null,
   "id": "e55a55c7-8a19-46a8-a7fb-f3c59dea3956",
   "metadata": {},
   "outputs": [],
   "source": [
    "import matplotlib.gridspec as gs\n",
    "import matplotlib.pyplot as pp\n",
    "import pandas as pd\n",
    "import pingouin as pg\n",
    "import seaborn as sb\n",
    "\n",
    "from pandas.api.types import CategoricalDtype"
   ]
  },
  {
   "cell_type": "code",
   "execution_count": null,
   "id": "ee9575f3-6bd3-4c65-9f64-2dc149cd2dfc",
   "metadata": {},
   "outputs": [],
   "source": [
    "def format_p_val(p):\n",
    "    \"\"\"Given a p-value format it to a nice string.\n",
    "\n",
    "    Examples:\n",
    "        format_p_val(0.43242323) -> p = 0.432\n",
    "        format_p_val(0.000001) -> p < 0.001\n",
    "    \"\"\"\n",
    "    if p < 0.001:\n",
    "        return \"< 0.001\"\n",
    "    else:\n",
    "        return \"{}\".format(round(p, 3))"
   ]
  },
  {
   "cell_type": "markdown",
   "id": "684087a8-1cf5-469a-bf31-b83a74c43686",
   "metadata": {},
   "source": [
    "First let's load the dataset and set the columns to the appropriate type.\n",
    "\n",
    "Key point is to set the categorical/ordinal columns using the `astype` method and the `CategoricalDtype` class."
   ]
  },
  {
   "cell_type": "markdown",
   "id": "562e0733-8245-41eb-b3b4-966c79c2010f",
   "metadata": {},
   "source": [
    "## Loading the data"
   ]
  },
  {
   "cell_type": "code",
   "execution_count": null,
   "id": "b0f268c9-183c-4f4e-b514-9ea37f518448",
   "metadata": {},
   "outputs": [],
   "source": [
    "# Read the data\n",
    "file_name = \"../data/mouse_linear_regression.csv\"\n",
    "df = pd.read_csv(file_name)\n",
    "# Set relevant variables to categorical/ordinal with appropriate levels and order\n",
    "df[\"Genotype\"] = df[\"Genotype\"].astype(\n",
    "    CategoricalDtype(categories=[\"WT\", \"-/-\"], ordered=True)\n",
    ")\n",
    "df[\"Sex\"] = df[\"Sex\"].astype(CategoricalDtype(categories=[\"F\", \"M\"], ordered=False))\n",
    "df[\"Treatment group\"] = df[\"Treatment group\"].astype(\n",
    "    CategoricalDtype(categories=[\"Control\", \"TX\", \"TX2\"], ordered=True)\n",
    ")\n",
    "# Take a look a the data\n",
    "df.head()"
   ]
  },
  {
   "cell_type": "markdown",
   "id": "f81017ab-98ba-4324-88f2-f24e903cf22e",
   "metadata": {},
   "source": [
    "## Exploratory data analysis"
   ]
  },
  {
   "cell_type": "markdown",
   "id": "757c0b78-eb45-412d-b53f-c0842ca71f55",
   "metadata": {},
   "source": [
    "Now let's take a quick look at the data.\n",
    "Here we use the seaborn [`catplot`](https://seaborn.pydata.org/generated/seaborn.catplot.html) function which allows us to create panelled plots for categorical data.\n",
    "There are various types of plot supported throught the `kind` argument."
   ]
  },
  {
   "cell_type": "code",
   "execution_count": null,
   "id": "b5af8e99-433f-43c9-8dd1-6f690b110abd",
   "metadata": {},
   "outputs": [],
   "source": [
    "sb.catplot(\n",
    "    df,\n",
    "    kind=\"swarm\",\n",
    "    col=\"Sex\",\n",
    "    row=\"Genotype\",\n",
    "    x=\"Treatment group\",\n",
    "    y=\"Weight\",\n",
    "    color=\"k\",\n",
    "    aspect=1, # Width to height ratio\n",
    "    height=4, # Height\n",
    ")"
   ]
  },
  {
   "cell_type": "markdown",
   "id": "845f5b74-6207-460b-b51a-08cd719816eb",
   "metadata": {},
   "source": [
    "The `catplot` function is useful for quickly getting a look at the data, but lacks flexibility if we want to combine different types of plots.\n",
    "Previously we had seen how could use the `pointplot` and `swarmplot` functions to data plots with errors bars.\n",
    "One way to do this is to use the [plotnine](https://plotnine.org) package which attempts to mimic R's ggplot library.\n",
    "I prefer to use [matplotlib](https://matplotlib.org) along with seaborn.\n",
    "It is a steeper learning curve, but ultimately gives a lot more control.\n",
    "\n",
    "The key idea below is to use the `GridSpec` class which allows us to create a grid of `Axes` object.\n",
    "`GridSpec` really only lays out the positions of the boxes for the `Axes`, to create them we first create a `Figure` object and then create `Axes` in the relevant location using `add_subplot`.\n",
    "\n",
    "> Note: The `tight_layout` method is really useful for getting the `Axes` to be nicely spaced."
   ]
  },
  {
   "cell_type": "code",
   "execution_count": null,
   "id": "297777a9-bc44-43b6-b0ac-fc33d575e6ab",
   "metadata": {},
   "outputs": [],
   "source": [
    "# Start by defining which columns we need for the plot\n",
    "col = \"Sex\"\n",
    "row = \"Genotype\"\n",
    "x = \"Treatment group\"\n",
    "y = \"Weight\""
   ]
  },
  {
   "cell_type": "code",
   "execution_count": null,
   "id": "cba76aef-6832-4957-98d6-69c28ab2fd63",
   "metadata": {},
   "outputs": [],
   "source": [
    "# Now we need to find out how many rows and columns we need.\n",
    "# To do so we just ask how many unique values are present in the relevant columns of our dataset.\n",
    "ncols = df[col].nunique()\n",
    "nrows = df[row].nunique()"
   ]
  },
  {
   "cell_type": "code",
   "execution_count": null,
   "id": "1641659f-38e6-46c9-9aa2-226e332ced4f",
   "metadata": {},
   "outputs": [],
   "source": [
    "# Create the grid and do our plotting\n",
    "grid = gs.GridSpec(nrows=nrows, ncols=ncols)\n",
    "# Create a figure to plot to\n",
    "fig = pp.figure(figsize=(8, 8))\n",
    "# Now we loop through the different row and column values to create our plots\n",
    "for i, row_val in enumerate(df[row].unique()):\n",
    "    for j, col_val in enumerate(df[col].unique()):\n",
    "        # Create an Axes object for plotting\n",
    "        ax = fig.add_subplot(grid[i, j])\n",
    "        # Subset our DataFrame to the relevant entries\n",
    "        plot_df = df[(df[row] == row_val) & (df[col] == col_val)]\n",
    "        # Now we can plot using the code from worksheet 2\n",
    "        sb.swarmplot(\n",
    "            plot_df,\n",
    "            ax=ax,\n",
    "            x=x,\n",
    "            y=y,\n",
    "            color=\"k\",\n",
    "        )\n",
    "        sb.pointplot(\n",
    "            plot_df,\n",
    "            ax=ax,\n",
    "            x=x,\n",
    "            y=y,\n",
    "            capsize=0.4,\n",
    "            color=\"k\",\n",
    "            estimator=\"median\",\n",
    "            errorbar=(\"pi\", 50),\n",
    "            linestyle=\"none\",\n",
    "        )\n",
    "        ax.set_xlabel(x)\n",
    "        ax.set_ylabel(y)\n",
    "        ax.set_title(\"Genotype = {0} | Sex = {1}\".format(row_val, col_val))\n",
    "# Usually a good idea to do tight_layout\n",
    "grid.tight_layout(fig)"
   ]
  },
  {
   "cell_type": "markdown",
   "id": "73584c8b-154c-4567-9953-eba34a23f257",
   "metadata": {},
   "source": [
    "### Testing difference of means"
   ]
  },
  {
   "cell_type": "markdown",
   "id": "a73c517c-9447-48d5-be07-c08c64fdb7a5",
   "metadata": {},
   "source": [
    "Our EDA has revealed that genotype -/- seems to have an interaction with the treatment, whereas the WT genotype doesn't seem to be impacted by treatment.\n",
    "To start with let's split the data by genotype and test the difference of means."
   ]
  },
  {
   "cell_type": "code",
   "execution_count": null,
   "id": "e774535b-0f68-4f0d-981a-7c8de9b02a17",
   "metadata": {},
   "outputs": [],
   "source": [
    "# Subset by genotype\n",
    "df_geno = df[df[\"Genotype\"] == \"WT\"]\n",
    "# Create one group for control\n",
    "x = df_geno.loc[df_geno[\"Treatment group\"] == \"Control\", \"Weight\"]\n",
    "# Create another group for single treatment\n",
    "y = df_geno.loc[df_geno[\"Treatment group\"] == \"TX\", \"Weight\"]\n",
    "# Use pingouin to do a t test\n",
    "pg.ttest(x, y)"
   ]
  },
  {
   "cell_type": "markdown",
   "id": "1ff67f73-6763-4aa2-aec0-08c0dd6339ff",
   "metadata": {},
   "source": [
    "As expected, no effect for the WT genotype.\n",
    "Let's try for the knockout genotype."
   ]
  },
  {
   "cell_type": "code",
   "execution_count": null,
   "id": "ea773efa-533b-4ca1-9632-bce53056edac",
   "metadata": {},
   "outputs": [],
   "source": [
    "# Subset by genotype\n",
    "df_geno = df[df[\"Genotype\"] == \"-/-\"]\n",
    "# Create one group for control\n",
    "x = df_geno.loc[df_geno[\"Treatment group\"] == \"Control\", \"Weight\"]\n",
    "# Create another group for single treatment\n",
    "y = df_geno.loc[df_geno[\"Treatment group\"] == \"TX\", \"Weight\"]\n",
    "# Use pingouin to do a t test\n",
    "pg.ttest(x, y)"
   ]
  },
  {
   "cell_type": "markdown",
   "id": "96aca77e-0958-4f21-96c9-fb03f2c4a1b4",
   "metadata": {},
   "source": [
    "Now we see an effect.\n",
    "We should conduct our assumptions check on the data.\n",
    "Here we will do Shapiro-Wilks for normality and Levene's test for equal variance of the populations."
   ]
  },
  {
   "cell_type": "code",
   "execution_count": null,
   "id": "ec872ac8-81c8-49a8-a19c-15650d05fc13",
   "metadata": {},
   "outputs": [],
   "source": [
    "# Shapiro-Wilks\n",
    "pg.normality(\n",
    "    data=df_geno,\n",
    "    dv=\"Weight\",\n",
    "    group=\"Treatment group\"\n",
    ")"
   ]
  },
  {
   "cell_type": "code",
   "execution_count": null,
   "id": "c10bb539-1e06-49d4-a268-7eaa5414a736",
   "metadata": {},
   "outputs": [],
   "source": [
    "# Levene's test\n",
    "pg.homoscedasticity(\n",
    "    data=df_geno,\n",
    "    dv=\"Weight\",\n",
    "    group=\"Treatment group\"\n",
    ")"
   ]
  },
  {
   "cell_type": "markdown",
   "id": "80ab81d2-9ff2-45d6-bdc9-c4a53a3c39d8",
   "metadata": {},
   "source": [
    "Normality and equal variance hold.\n",
    "So far this looks like a lot more work than JASP.\n",
    "The benefit comes if we want to do a few different comparisons.\n",
    "We can reuse the previous code but put it inside a `for` loop."
   ]
  },
  {
   "cell_type": "code",
   "execution_count": null,
   "id": "533e96d0-a75e-4ec3-b93a-954e460b3473",
   "metadata": {},
   "outputs": [],
   "source": [
    "# We will split by the genotypes\n",
    "genos = [\"-/-\", \"WT\"]\n",
    "# We will save our results in a list\n",
    "results = []\n",
    "# Now we loop over the genotypes\n",
    "for g in genos:\n",
    "    # Do the t test\n",
    "    df_g = pg.pairwise_tests(\n",
    "        data=df[df[\"Genotype\"] == g],\n",
    "        dv=\"Weight\",\n",
    "        between=\"Treatment group\"\n",
    "    )\n",
    "    # Add the information about which genotype we looked at to the data frame\n",
    "    df_g.insert(0, \"Genotype\", g)\n",
    "    # Add the genotype results to our results list\n",
    "    results.append(df_g)\n",
    "# Turn our results into a dataframe by concatenating them\n",
    "results = pd.concat(results)\n",
    "results"
   ]
  },
  {
   "cell_type": "markdown",
   "id": "acecc1d4-450e-4a0a-a4d1-57565ede3862",
   "metadata": {},
   "source": [
    "Now we should also be doing multiple test correction on the p-values.\n",
    "The `multicomp` function from `pingouin` provides this functionality.\n",
    "Below I will use Bonferroni to adjust the p-values and Benjamini/Hochberg to get the false discovery rate."
   ]
  },
  {
   "cell_type": "code",
   "execution_count": null,
   "id": "01fc11ba-4106-4661-84d7-94f0ea2dee9a",
   "metadata": {},
   "outputs": [],
   "source": [
    "pg.multicomp(results[\"p-unc\"], method=\"bonferroni\")"
   ]
  },
  {
   "cell_type": "code",
   "execution_count": null,
   "id": "e9dd7234-4eb6-46f7-b4c0-66c2b048c03a",
   "metadata": {},
   "outputs": [],
   "source": [
    "pg.multicomp(results[\"p-unc\"], method=\"fdr_bh\")"
   ]
  },
  {
   "cell_type": "markdown",
   "id": "4f520e85-4a72-434a-90ed-dd4958069219",
   "metadata": {},
   "source": [
    "The `multicomp` function that corrects for multiple testing returns to collections of things.\n",
    "\n",
    "1. Whether the corrected values are reject the null at a given power (0.05) by default.\n",
    "2. The adjusted p-values.\n",
    "\n",
    "If we just want the p-values we can select them using the indexing notation `[1]` since they are the second element. \n",
    "> Recall that Python uses zero-based indexing i.e. starts counting from zero."
   ]
  },
  {
   "cell_type": "code",
   "execution_count": null,
   "id": "9656eb21-c5f3-4c31-b834-0001ad9c2d40",
   "metadata": {},
   "outputs": [],
   "source": [
    "results[\"p_bon\"] = pg.multicomp(results[\"p-unc\"], method=\"bonferroni\")[1]\n",
    "results[\"fdr\"] = pg.multicomp(results[\"p-unc\"], method=\"fdr_bh\")[1]\n",
    "results"
   ]
  },
  {
   "cell_type": "markdown",
   "id": "039e1a0d-db7c-42c2-a06d-51cda4a13bf8",
   "metadata": {},
   "source": [
    "If the normality tests had failed we could also perform Mann Whitney.\n",
    "\n",
    "> Caveat: scipy does not seem to support CI's for Mann Whitney."
   ]
  },
  {
   "cell_type": "code",
   "execution_count": null,
   "id": "c318151e-ed31-467c-8c20-43f3c6bf8874",
   "metadata": {},
   "outputs": [],
   "source": [
    "df_geno = df[df[\"Genotype\"] == \"-/-\"]\n",
    "# Mann Whitney\n",
    "pg.pairwise_tests(\n",
    "    data=df_geno,\n",
    "    dv=\"Weight\",\n",
    "    between=\"Treatment group\",\n",
    "    parametric=False\n",
    ")"
   ]
  },
  {
   "cell_type": "markdown",
   "id": "a36aeb32-94f1-41b4-a81b-994e6e859ebe",
   "metadata": {},
   "source": [
    "If the equal variance test fails we use Welch's t test."
   ]
  },
  {
   "cell_type": "code",
   "execution_count": null,
   "id": "17431218-5046-40d1-896b-eab44b61365a",
   "metadata": {},
   "outputs": [],
   "source": [
    "df_geno = df[df[\"Genotype\"] == \"-/-\"]\n",
    "# Mann Whitney\n",
    "pg.pairwise_tests(\n",
    "    data=df_geno,\n",
    "    dv=\"Weight\",\n",
    "    between=\"Treatment group\",\n",
    "    correction=True\n",
    ")"
   ]
  },
  {
   "cell_type": "markdown",
   "id": "51d63a8c-93bc-496f-ab31-7fc10eebc409",
   "metadata": {},
   "source": [
    "## One way ANOVA"
   ]
  },
  {
   "cell_type": "markdown",
   "id": "a17d4cdc-a74c-4273-966d-940a945f7791",
   "metadata": {},
   "source": [
    "Since treatment group has three levels (Control, TX, TX2), we need to do multiple pairwise t tests.\n",
    "\n",
    "An alternate approach is to use an ANOVA to do a omnibus test, followed by post-hoc pairwise tests."
   ]
  },
  {
   "cell_type": "code",
   "execution_count": null,
   "id": "16e91dd0-aa87-4234-82b0-95bbd668fe1f",
   "metadata": {},
   "outputs": [],
   "source": [
    "# We'll subset by genotype here\n",
    "df_geno = df[df[\"Genotype\"] == \"-/-\"]\n",
    "# Run a one way ANOVA\n",
    "pg.anova(\n",
    "    data=df,\n",
    "    dv=\"Weight\",\n",
    "    between=\"Treatment group\",\n",
    ")"
   ]
  },
  {
   "cell_type": "markdown",
   "id": "b33eff77-a3bc-4c22-aaf6-cd7fd711d3e6",
   "metadata": {},
   "source": [
    "You can use the same functions as we did in the t test section to check assumptions.\n",
    "\n",
    "Since the ommibus test was significant we can run a post hoc test.\n",
    "We will use the Tukey test."
   ]
  },
  {
   "cell_type": "code",
   "execution_count": null,
   "id": "e4e2e458-a58a-42bb-9cb3-0ade12a90511",
   "metadata": {},
   "outputs": [],
   "source": [
    "pg.pairwise_tukey(\n",
    "    data=df,\n",
    "    dv=\"Weight\",\n",
    "    between=\"Treatment group\",\n",
    ")"
   ]
  },
  {
   "cell_type": "markdown",
   "id": "f3551ef3-9aef-4744-832a-fe4e3a0524e1",
   "metadata": {},
   "source": [
    "The `pairwise_tukey` functions returns Tukey-HSD corrected p-values.\n",
    "Based on these we note a significant difference between Control and TX2, but not Control and TX."
   ]
  },
  {
   "cell_type": "markdown",
   "id": "60178712-ce7a-4c71-ae5c-aaec7a6f6683",
   "metadata": {},
   "source": [
    "## Two way ANOVA"
   ]
  },
  {
   "cell_type": "markdown",
   "id": "c456871d-e897-47ed-b6a0-db4723d4962f",
   "metadata": {},
   "source": [
    "So far we have been subsetting by genotype.\n",
    "We can unify the entire analysis doing a two way ANOVA."
   ]
  },
  {
   "cell_type": "code",
   "execution_count": null,
   "id": "5c1cc56a-c848-4133-bffc-807272fe87a9",
   "metadata": {},
   "outputs": [],
   "source": [
    "pg.anova(\n",
    "    data=df,\n",
    "    dv=\"Weight\",\n",
    "    between=[\"Genotype\", \"Treatment group\"],\n",
    ")"
   ]
  },
  {
   "cell_type": "markdown",
   "id": "0498d391-c108-436d-9ed4-1b12b1c326bc",
   "metadata": {},
   "source": [
    "We see a significant interaction effect.\n",
    "We can use post-hoc tests to look at what specific interactions.\n",
    "However, pingouin does not currently support this.\n",
    "There is a simple fix which is to create a dummy column with the combo of the factors in the interaction.\n",
    "We will do this for Sex and Treatment group."
   ]
  },
  {
   "cell_type": "code",
   "execution_count": null,
   "id": "74a5a13a-5798-4dbf-b350-dbed76f9c48b",
   "metadata": {},
   "outputs": [],
   "source": [
    "df[\"interaction\"] = df[\"Genotype\"].astype(str) + \":\" + df[\"Treatment group\"].astype(str)\n",
    "df.iloc[::5]"
   ]
  },
  {
   "cell_type": "markdown",
   "id": "fee74ed3-59b6-40bf-813e-89d03944e910",
   "metadata": {},
   "source": [
    "Now we can do the post-hoc test on the interaction."
   ]
  },
  {
   "cell_type": "code",
   "execution_count": null,
   "id": "ad6735b3-fbf3-4f65-86e3-5ab0798bf8fe",
   "metadata": {},
   "outputs": [],
   "source": [
    "pg.pairwise_tukey(\n",
    "    data=df,\n",
    "    dv=\"Weight\",\n",
    "    between=\"interaction\",\n",
    ")"
   ]
  },
  {
   "cell_type": "markdown",
   "id": "32194f30-d176-4f76-97fc-8d8922183d54",
   "metadata": {},
   "source": [
    "We can also include Sex."
   ]
  },
  {
   "cell_type": "code",
   "execution_count": null,
   "id": "d1d6b78e-d99f-4f90-9095-1d784cfba24d",
   "metadata": {},
   "outputs": [],
   "source": [
    "pg.anova(\n",
    "    data=df,\n",
    "    dv=\"Weight\",\n",
    "    between=[\"Genotype\", \"Sex\", \"Treatment group\"],\n",
    ").round(3)"
   ]
  },
  {
   "cell_type": "markdown",
   "id": "f0ca8708-d63a-4570-942e-4a7f822590dc",
   "metadata": {},
   "source": [
    "The results suggest the sex alone is significant.\n",
    "This makes sense because the data was generated to reflect a baseline difference in weight between male and female mice.\n",
    "However, there are no significant interactions between sex and other variables."
   ]
  },
  {
   "cell_type": "code",
   "execution_count": null,
   "id": "a07279c9-9f4b-40e6-8ab3-ec9166f8719f",
   "metadata": {},
   "outputs": [],
   "source": []
  }
 ],
 "metadata": {
  "kernelspec": {
   "display_name": "Python [conda env:dev]",
   "language": "python",
   "name": "conda-env-dev-py"
  },
  "language_info": {
   "codemirror_mode": {
    "name": "ipython",
    "version": 3
   },
   "file_extension": ".py",
   "mimetype": "text/x-python",
   "name": "python",
   "nbconvert_exporter": "python",
   "pygments_lexer": "ipython3",
   "version": "3.11.8"
  }
 },
 "nbformat": 4,
 "nbformat_minor": 5
}
